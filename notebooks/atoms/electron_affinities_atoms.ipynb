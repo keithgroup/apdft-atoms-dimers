{
 "cells": [
  {
   "cell_type": "markdown",
   "metadata": {},
   "source": [
    "# APDFT Analysis\n",
    "\n",
    "Predictions can use\n",
    "\n",
    "- **QC**: HF, CCSD, or CCSD(T) energy differences with the species of interests or target,\n",
    "- **APDFT**: HF, CCSD, or CCSD(T) energy differences by changing the nuclear charge of other systems that have the same number of electrons as the target,\n",
    "- **APDFT*n***: Taylor series approximation with order *n* of the APDFT potential energy surface."
   ]
  },
  {
   "cell_type": "code",
   "execution_count": 1,
   "metadata": {},
   "outputs": [],
   "source": [
    "import numpy as np\n",
    "import pandas as pd\n",
    "import matplotlib.pyplot as plt\n",
    "from matplotlib import colors\n",
    "\n",
    "from qa_tools.utils import hartree_to_ev, all_atom_systems\n",
    "from qa_tools.data import prepare_dfs\n",
    "from qa_tools.prediction import get_qats_change_charge, get_qc_change_charge\n",
    "from qa_tools.analysis import qats_error_change_charge\n",
    "\n",
    "json_path = '../../json-data/atom-pyscf.qa-data.posthf.json'\n",
    "df_qc, df_qats = prepare_dfs(json_path, get_CBS=False)"
   ]
  },
  {
   "cell_type": "markdown",
   "metadata": {},
   "source": [
    "## APDFT prediction errors\n",
    "\n",
    "There is some intrinsic error in modeling a target system (e.g., N atom) by changing the nuclear charge of a reference system's basis set (e.g., C<sup> &ndash;</sup> ).\n",
    "The following cell computes this error, and represents the best performance for APDFT without fortuitous errors."
   ]
  },
  {
   "cell_type": "code",
   "execution_count": 2,
   "metadata": {},
   "outputs": [],
   "source": [
    "system_label = 'n'\n",
    "delta_charge = -1\n",
    "target_initial_charge = 0  # Initial charge of the system.\n",
    "basis_set = 'aug-cc-pV5Z'  # cc-pV5Z, aug-cc-pVTZ, aug-cc-pVQZ, aug-cc-pV5Z, CBS-aug\n",
    "change_signs = True  # Multiple all predictions by negative one (e.g., for electron affinities)"
   ]
  },
  {
   "cell_type": "code",
   "execution_count": 3,
   "metadata": {},
   "outputs": [
    {
     "name": "stdout",
     "output_type": "stream",
     "text": [
      "PySCF prediction of EA for n: -0.201 eV\n",
      "\n",
      "APDFT prediction errors in eV:\n",
      "              c         f        o\n",
      "APDFT  0.032448 -0.040251 -0.01219\n"
     ]
    }
   ],
   "source": [
    "use_qats = False  # Use finite differences with Taylor series for APDFT predictions.\n",
    "\n",
    "ea_qc_prediction = get_qc_change_charge(\n",
    "    df_qc, system_label, delta_charge,\n",
    "    target_initial_charge=target_initial_charge,\n",
    "    change_signs=change_signs, basis_set=basis_set\n",
    ")\n",
    "ea_qats_predictions = get_qats_change_charge(\n",
    "    df_qc, df_qats, system_label, delta_charge,\n",
    "    target_initial_charge=target_initial_charge,\n",
    "    change_signs=change_signs, basis_set=basis_set, use_qats=use_qats\n",
    ")\n",
    "\n",
    "ea_qc_prediction = hartree_to_ev(ea_qc_prediction)\n",
    "ea_qats_predictions = {key:hartree_to_ev(value) for (key,value) in ea_qats_predictions.items()}\n",
    "ea_qats_errors = {key:value-ea_qc_prediction for (key,value) in ea_qats_predictions.items()}\n",
    "\n",
    "print(f'PySCF prediction of EA for {system_label}: {ea_qc_prediction:.3f} eV\\n')\n",
    "print(f'APDFT prediction errors in eV:')\n",
    "print(pd.DataFrame(ea_qats_errors, index=[f'APDFT']))"
   ]
  },
  {
   "cell_type": "markdown",
   "metadata": {},
   "source": [
    "## APDFT*n* prediction errors\n",
    "\n",
    "Now, we can look at approximating the APDFT prediction by using a Taylor series centered on $\\Delta Z = 0$."
   ]
  },
  {
   "cell_type": "code",
   "execution_count": 4,
   "metadata": {},
   "outputs": [
    {
     "name": "stdout",
     "output_type": "stream",
     "text": [
      "PySCF prediction of EA for n: -0.201 eV\n",
      "\n",
      "APDFTn prediction errors in eV:\n",
      "                 c          f          o\n",
      "APDFT0   -4.848905  35.104146  13.771906\n",
      "APDFT1   -1.813128 -14.690398  -3.919313\n",
      "APDFT2   -3.834905  -0.591517  -0.214818\n",
      "APDFT3   34.303740  -0.312760  -0.099927\n",
      "APDFT4 -291.468413  -0.183423  -0.053606\n"
     ]
    }
   ],
   "source": [
    "use_qats = True  # Use finite differences with Taylor series for APDFT predictions.\n",
    "\n",
    "ea_qc_prediction = get_qc_change_charge(\n",
    "    df_qc, system_label, delta_charge,\n",
    "    target_initial_charge=target_initial_charge,\n",
    "    change_signs=change_signs, basis_set=basis_set\n",
    ")\n",
    "ea_qats_predictions = get_qats_change_charge(\n",
    "    df_qc, df_qats, system_label, delta_charge,\n",
    "    target_initial_charge=target_initial_charge,\n",
    "    change_signs=change_signs, basis_set=basis_set, use_qats=use_qats\n",
    ")\n",
    "\n",
    "ea_qc_prediction = hartree_to_ev(ea_qc_prediction)\n",
    "ea_qats_predictions = {key:hartree_to_ev(value) for (key,value) in ea_qats_predictions.items()}\n",
    "ea_qats_errors = {key:value-ea_qc_prediction for (key,value) in ea_qats_predictions.items()}\n",
    "\n",
    "print(f'PySCF prediction of EA for {system_label}: {ea_qc_prediction:.3f} eV\\n')\n",
    "print(f'APDFTn prediction errors in eV:')\n",
    "print(pd.DataFrame(ea_qats_errors, index=[f'APDFT{n}' for n in range(5)]))"
   ]
  },
  {
   "cell_type": "markdown",
   "metadata": {},
   "source": [
    "### Specifying lambda values\n",
    "\n",
    "We can also specify specific lambda values to include. For example, we could only look at lambda values of +-1."
   ]
  },
  {
   "cell_type": "code",
   "execution_count": 5,
   "metadata": {},
   "outputs": [
    {
     "name": "stdout",
     "output_type": "stream",
     "text": [
      "PySCF prediction of EA for n: -0.201 eV\n",
      "\n",
      "APDFTn prediction errors in eV:\n",
      "                 c          o\n",
      "APDFT0   -4.848905  13.771906\n",
      "APDFT1   -1.813128  -3.919313\n",
      "APDFT2   -3.834905  -0.214818\n",
      "APDFT3   34.303740  -0.099927\n",
      "APDFT4 -291.468413  -0.053606\n"
     ]
    }
   ],
   "source": [
    "considered_lambdas = [-1, 1]\n",
    "\n",
    "use_qats = True  # Use finite differences with Taylor series for APDFT predictions.\n",
    "\n",
    "ea_qc_prediction = get_qc_change_charge(\n",
    "    df_qc, system_label, delta_charge,\n",
    "    target_initial_charge=target_initial_charge,\n",
    "    change_signs=change_signs, basis_set=basis_set\n",
    ")\n",
    "ea_qats_predictions = get_qats_change_charge(\n",
    "    df_qc, df_qats, system_label, delta_charge,\n",
    "    target_initial_charge=target_initial_charge,\n",
    "    change_signs=change_signs, basis_set=basis_set, use_qats=use_qats,\n",
    "    considered_lambdas=considered_lambdas\n",
    ")\n",
    "\n",
    "ea_qc_prediction = hartree_to_ev(ea_qc_prediction)\n",
    "ea_qats_predictions = {key:hartree_to_ev(value) for (key,value) in ea_qats_predictions.items()}\n",
    "ea_qats_errors = {key:value-ea_qc_prediction for (key,value) in ea_qats_predictions.items()}\n",
    "\n",
    "print(f'PySCF prediction of EA for {system_label}: {ea_qc_prediction:.3f} eV\\n')\n",
    "print(f'APDFTn prediction errors in eV:')\n",
    "print(pd.DataFrame(ea_qats_errors, index=[f'APDFT{n}' for n in range(5)]))"
   ]
  },
  {
   "cell_type": "markdown",
   "metadata": {},
   "source": [
    "## APDFT*n* errors with respect to APDFT\n",
    "\n",
    "Or you, can compute the difference between APDFT*n* (predictions with Taylor series) and APDFT."
   ]
  },
  {
   "cell_type": "code",
   "execution_count": 6,
   "metadata": {},
   "outputs": [
    {
     "name": "stdout",
     "output_type": "stream",
     "text": [
      "Differences between APDFTn and APDFT in eV:\n",
      "                 c          f          o\n",
      "APDFT0   -4.881353  35.144397  13.784096\n",
      "APDFT1   -1.845575 -14.650147  -3.907123\n",
      "APDFT2   -3.867353  -0.551266  -0.202628\n",
      "APDFT3   34.271292  -0.272509  -0.087737\n",
      "APDFT4 -291.500860  -0.143172  -0.041416\n"
     ]
    }
   ],
   "source": [
    "compute_difference = True  # Returns APDFTn - APDFT instead of energy predictions.\n",
    "\n",
    "use_qats = True  # Use finite differences with Taylor series for APDFT predictions.\n",
    "\n",
    "ea_qats_predictions = get_qats_change_charge(\n",
    "    df_qc, df_qats, system_label, delta_charge,\n",
    "    target_initial_charge=target_initial_charge,\n",
    "    change_signs=change_signs, basis_set=basis_set, use_qats=use_qats,\n",
    "    compute_difference=compute_difference\n",
    ")\n",
    "\n",
    "ea_qats_predictions = {key:hartree_to_ev(value) for (key,value) in ea_qats_predictions.items()}\n",
    "\n",
    "print(f'Differences between APDFTn and APDFT in eV:')\n",
    "print(pd.DataFrame(ea_qats_predictions, index=[f'APDFT{n}' for n in range(5)]))"
   ]
  },
  {
   "cell_type": "markdown",
   "metadata": {},
   "source": [
    "## Overall statistics\n",
    "\n",
    "We can also compute mean absolute errors (MAEs), root mean squared error (RMSE) and max error."
   ]
  },
  {
   "cell_type": "code",
   "execution_count": 7,
   "metadata": {},
   "outputs": [
    {
     "name": "stdout",
     "output_type": "stream",
     "text": [
      "APDFT0 MAE: 15.1554 eV\n",
      "APDFT1 MAE: 6.2224 eV\n",
      "APDFT2 MAE: 1.1140 eV\n",
      "APDFT3 MAE: 1.6357 eV\n",
      "APDFT4 MAE: 11.5901 eV\n",
      "\n",
      "APDFT0 RMSE: 20.1437 eV\n",
      "APDFT1 RMSE: 10.4108 eV\n",
      "APDFT2 RMSE: 1.6244 eV\n",
      "APDFT3 RMSE: 5.3115 eV\n",
      "APDFT4 RMSE: 43.1342 eV\n",
      "\n",
      "APDFT0 Max Abs.: 74.3534 eV\n",
      "APDFT1 Max Abs.: 54.1903 eV\n",
      "APDFT2 Max Abs.: 3.8349 eV\n",
      "APDFT3 Max Abs.: 34.3037 eV\n",
      "APDFT4 Max Abs.: 291.4684 eV\n"
     ]
    }
   ],
   "source": [
    "all_systems = all_atom_systems[0:-1]\n",
    "basis_set = 'aug-cc-pV5Z'\n",
    "target_initial_charge = 0\n",
    "\n",
    "use_qats = True\n",
    "compute_difference = False\n",
    "considered_lambdas = None\n",
    "\n",
    "max_qa_order = 4\n",
    "ignore_one_row = True\n",
    "\n",
    "for i in range(len(all_systems)):\n",
    "    sys_error = qats_error_change_charge(\n",
    "        df_qc, df_qats, all_systems[i], delta_charge, change_signs=change_signs, \n",
    "        basis_set=basis_set, target_initial_charge=target_initial_charge,\n",
    "        use_qats=use_qats, ignore_one_row=ignore_one_row,\n",
    "        compute_difference=compute_difference,\n",
    "        considered_lambdas=considered_lambdas\n",
    "    )\n",
    "    if i == 0:\n",
    "        all_error = sys_error\n",
    "    else:\n",
    "        all_error = pd.concat(\n",
    "            [all_error, sys_error], axis=1\n",
    "        )\n",
    "\n",
    "if use_qats or compute_difference == True:\n",
    "    # MAE\n",
    "    for n in range(0, max_qa_order+1):\n",
    "        apdftn_errors = all_error.iloc[n].values\n",
    "        apdftn_mae = np.mean(np.abs(apdftn_errors))\n",
    "        print(f'APDFT{n} MAE: {apdftn_mae:.4f} eV')\n",
    "\n",
    "    # RMSE\n",
    "    print()\n",
    "    for n in range(0, max_qa_order+1):\n",
    "        apdftn_errors = all_error.iloc[n].values\n",
    "        apdftn_rmse = np.sqrt(np.mean((apdftn_errors)**2))\n",
    "        print(f'APDFT{n} RMSE: {apdftn_rmse:.4f} eV')\n",
    "    \n",
    "    # Max\n",
    "    print()\n",
    "    for n in range(0, max_qa_order+1):\n",
    "        apdftn_errors = all_error.iloc[n].values\n",
    "        apdftn_max = np.max(np.abs(apdftn_errors))\n",
    "        print(f'APDFT{n} Max Abs.: {apdftn_max:.4f} eV')\n",
    "else:\n",
    "    # MAE\n",
    "    apdftn_errors = all_error.iloc[0].values\n",
    "    apdftn_mae = np.mean(np.abs(apdftn_errors))\n",
    "    print(f'APDFT MAE: {apdftn_mae:.4f} eV')\n",
    "\n",
    "    # RMSE\n",
    "    print()\n",
    "    apdftn_rmse = np.sqrt(np.mean((apdftn_errors)**2))\n",
    "    print(f'APDFT RMSE: {apdftn_rmse:.4f} eV')\n",
    "\n",
    "    # Max\n",
    "    print()\n",
    "    apdftn_max = np.max(np.abs(apdftn_errors))\n",
    "    print(f'APDFT Max Abs.: {apdftn_max:.4f} eV')\n"
   ]
  }
 ],
 "metadata": {
  "interpreter": {
   "hash": "e7370f93d1d0cde622a1f8e1c04877d8463912d04d973331ad4851f04de6915a"
  },
  "kernelspec": {
   "display_name": "Python 3 (ipykernel)",
   "language": "python",
   "name": "python3"
  },
  "language_info": {
   "codemirror_mode": {
    "name": "ipython",
    "version": 3
   },
   "file_extension": ".py",
   "mimetype": "text/x-python",
   "name": "python",
   "nbconvert_exporter": "python",
   "pygments_lexer": "ipython3",
   "version": "3.8.10"
  },
  "metadata": {
   "interpreter": {
    "hash": "1b40a011e729b217253a6703e3a50bab703685f13ebc69dadb4df728bd46068a"
   }
  }
 },
 "nbformat": 4,
 "nbformat_minor": 2
}
