{
 "cells": [
  {
   "cell_type": "markdown",
   "metadata": {},
   "source": [
    "# APDFT Analysis\n",
    "\n",
    "Predictions can use\n",
    "\n",
    "- **QC**: HF, CCSD, or CCSD(T) energy differences with the species of interests or target,\n",
    "- **Quantum Alchemy**: HF, CCSD, or CCSD(T) energy differences by changing the nuclear charge of other systems that have the same number of electrons as the target,\n",
    "- **APDFT*n***: Taylor series approximation with order *n* of the APDFT potential energy surface."
   ]
  },
  {
   "cell_type": "code",
   "execution_count": 1,
   "metadata": {},
   "outputs": [],
   "source": [
    "import numpy as np\n",
    "import pandas as pd\n",
    "import matplotlib.pyplot as plt\n",
    "from matplotlib import colors\n",
    "\n",
    "from qa_tools.utils import hartree_to_ev, all_atom_systems\n",
    "from qa_tools.data import prepare_dfs\n",
    "from qa_tools.prediction import get_qa_change_charge, get_qc_change_charge\n",
    "from qa_tools.analysis import qats_error_change_charge\n",
    "\n",
    "json_path = '../../json-data/atom-pyscf.qa-data.posthf.json'\n",
    "df_qc, df_qats = prepare_dfs(json_path, get_CBS=False)"
   ]
  },
  {
   "cell_type": "markdown",
   "metadata": {},
   "source": [
    "## APDFT prediction errors\n",
    "\n",
    "There is some intrinsic error in modeling a target system (e.g., N atom) by changing the nuclear charge of a reference system's basis set (e.g., C<sup> &ndash;</sup> ).\n",
    "The following cell computes this error, and represents the best performance for APDFT without fortuitous errors."
   ]
  },
  {
   "cell_type": "code",
   "execution_count": 2,
   "metadata": {},
   "outputs": [
    {
     "name": "stdout",
     "output_type": "stream",
     "text": [
      "PySCF prediction of IE for n: 14.541 eV\n",
      "\n",
      "APDFT prediction errors in eV:\n",
      "              b         c         o\n",
      "APDFT -0.053009 -0.010871  0.001612\n"
     ]
    }
   ],
   "source": [
    "system_label = 'n'\n",
    "delta_charge = 1\n",
    "target_initial_charge = 0  # Initial charge of the system.\n",
    "basis_set = 'aug-cc-pV5Z'  # cc-pV5Z, aug-cc-pVTZ, aug-cc-pVQZ, aug-cc-pV5Z, CBS-aug\n",
    "\n",
    "use_ts = False  # Use finite differences with Taylor series for APDFT predictions.\n",
    "change_signs = False  # Multiple all predictions by negative one (e.g., for electron affinities)\n",
    "\n",
    "ie_qc_prediction = energy_change_charge_qc_atom(\n",
    "    df_qc, system_label, delta_charge,\n",
    "    target_initial_charge=target_initial_charge,\n",
    "    change_signs=change_signs, basis_set=basis_set\n",
    ")\n",
    "ie_qats_predictions = energy_change_charge_qa_atom(\n",
    "    df_qc, df_qats, system_label, delta_charge,\n",
    "    target_initial_charge=target_initial_charge,\n",
    "    change_signs=change_signs, basis_set=basis_set, use_ts=use_ts\n",
    ")\n",
    "\n",
    "ie_qc_prediction = hartree_to_ev(ie_qc_prediction)\n",
    "ie_qats_predictions = {key:hartree_to_ev(value) for (key,value) in ie_qats_predictions.items()}\n",
    "ie_qats_errors = {key:value-ie_qc_prediction for (key,value) in ie_qats_predictions.items()}\n",
    "\n",
    "print(f'PySCF prediction of IE for {system_label}: {ie_qc_prediction:.3f} eV\\n')\n",
    "print(f'APDFT prediction errors in eV:')\n",
    "print(pd.DataFrame(ie_qats_errors, index=[f'APDFT']))"
   ]
  },
  {
   "cell_type": "markdown",
   "metadata": {},
   "source": [
    "## APDFT*n* prediction errors\n",
    "\n",
    "Now, we can look at approximating the APDFT prediction by using a Taylor series centered on $\\Delta Z = 0$."
   ]
  },
  {
   "cell_type": "code",
   "execution_count": 3,
   "metadata": {},
   "outputs": [
    {
     "name": "stdout",
     "output_type": "stream",
     "text": [
      "PySCF prediction of IE for n: 14.541 eV\n",
      "\n",
      "APDFTn prediction errors in eV:\n",
      "                b          c          o\n",
      "QATS-0 -17.880868 -13.288335  20.598492\n",
      "QATS-1 -14.107617  -4.001721  -3.519578\n",
      "QATS-2 -14.026723   0.459099  -0.030341\n",
      "QATS-3   9.209186  -0.214531  -0.005005\n",
      "QATS-4  45.454693  -0.470333   0.000159\n"
     ]
    }
   ],
   "source": [
    "system_label = 'n'\n",
    "delta_charge = 1\n",
    "target_initial_charge = 0  # Initial charge of the system.\n",
    "basis_set = 'aug-cc-pV5Z'  # cc-pV5Z, aug-cc-pVTZ, aug-cc-pVQZ, aug-cc-pV5Z, CBS-aug\n",
    "\n",
    "use_ts = True  # Use finite differences with Taylor series for APDFT predictions.\n",
    "change_signs = False  # Multiple all predictions by negative one (e.g., for electron affinities)\n",
    "\n",
    "ie_qc_prediction = energy_change_charge_qc_atom(\n",
    "    df_qc, system_label, delta_charge,\n",
    "    target_initial_charge=target_initial_charge,\n",
    "    change_signs=change_signs, basis_set=basis_set\n",
    ")\n",
    "ie_qats_predictions = energy_change_charge_qa_atom(\n",
    "    df_qc, df_qats, system_label, delta_charge,\n",
    "    target_initial_charge=target_initial_charge,\n",
    "    change_signs=change_signs, basis_set=basis_set, use_ts=use_ts\n",
    ")\n",
    "\n",
    "ie_qc_prediction = hartree_to_ev(ie_qc_prediction)\n",
    "ie_qats_predictions = {key:hartree_to_ev(value) for (key,value) in ie_qats_predictions.items()}\n",
    "ie_qats_errors = {key:value-ie_qc_prediction for (key,value) in ie_qats_predictions.items()}\n",
    "\n",
    "print(f'PySCF prediction of IE for {system_label}: {ie_qc_prediction:.3f} eV\\n')\n",
    "print(f'APDFTn prediction errors in eV:')\n",
    "print(pd.DataFrame(ie_qats_errors, index=[f'QATS-{n}' for n in range(5)]))"
   ]
  },
  {
   "cell_type": "markdown",
   "metadata": {},
   "source": [
    "### Specifying lambda values\n",
    "\n",
    "We can also specify specific lambda values to include. For example, we could only look at lambda values of +-1."
   ]
  },
  {
   "cell_type": "code",
   "execution_count": 4,
   "metadata": {},
   "outputs": [
    {
     "name": "stdout",
     "output_type": "stream",
     "text": [
      "PySCF prediction of IE for n: 14.541 eV\n",
      "\n",
      "APDFTn prediction errors in eV:\n",
      "                c          o\n",
      "QATS-0 -13.288335  20.598492\n",
      "QATS-1  -4.001721  -3.519578\n",
      "QATS-2   0.459099  -0.030341\n",
      "QATS-3  -0.214531  -0.005005\n",
      "QATS-4  -0.470333   0.000159\n"
     ]
    }
   ],
   "source": [
    "system_label = 'n'\n",
    "delta_charge = 1\n",
    "target_initial_charge = 0  # Initial charge of the system.\n",
    "basis_set = 'aug-cc-pV5Z'  # cc-pV5Z, aug-cc-pVTZ, aug-cc-pVQZ, aug-cc-pV5Z, CBS-aug\n",
    "\n",
    "considered_lambdas = [-1, 1]\n",
    "\n",
    "use_ts = True  # Use finite differences with Taylor series for APDFT predictions.\n",
    "change_signs = False  # Multiple all predictions by negative one (e.g., for electron affinities)\n",
    "\n",
    "ie_qc_prediction = energy_change_charge_qc_atom(\n",
    "    df_qc, system_label, delta_charge,\n",
    "    target_initial_charge=target_initial_charge,\n",
    "    change_signs=change_signs, basis_set=basis_set\n",
    ")\n",
    "ie_qats_predictions = energy_change_charge_qa_atom(\n",
    "    df_qc, df_qats, system_label, delta_charge,\n",
    "    target_initial_charge=target_initial_charge,\n",
    "    change_signs=change_signs, basis_set=basis_set, use_ts=use_ts,\n",
    "    considered_lambdas=considered_lambdas\n",
    ")\n",
    "\n",
    "ie_qc_prediction = hartree_to_ev(ie_qc_prediction)\n",
    "ie_qats_predictions = {key:hartree_to_ev(value) for (key,value) in ie_qats_predictions.items()}\n",
    "ie_qats_errors = {key:value-ie_qc_prediction for (key,value) in ie_qats_predictions.items()}\n",
    "\n",
    "print(f'PySCF prediction of IE for {system_label}: {ie_qc_prediction:.3f} eV\\n')\n",
    "print(f'APDFTn prediction errors in eV:')\n",
    "print(pd.DataFrame(ie_qats_errors, index=[f'QATS-{n}' for n in range(5)]))"
   ]
  },
  {
   "cell_type": "markdown",
   "metadata": {},
   "source": [
    "## APDFT*n* errors with respect to APDFT\n",
    "\n",
    "Or you, can compute the difference between APDFT*n* (predictions with Taylor series) and APDFT."
   ]
  },
  {
   "cell_type": "code",
   "execution_count": 5,
   "metadata": {},
   "outputs": [
    {
     "name": "stdout",
     "output_type": "stream",
     "text": [
      "Differences between APDFTn and APDFT in eV:\n",
      "                b          c          o\n",
      "QATS-0 -17.827859 -13.277465  20.596880\n",
      "QATS-1 -14.054608  -3.990850  -3.521190\n",
      "QATS-2 -13.973714   0.469970  -0.031953\n",
      "QATS-3   9.262195  -0.203660  -0.006618\n",
      "QATS-4  45.507701  -0.459463  -0.001454\n"
     ]
    }
   ],
   "source": [
    "system_label = 'n'\n",
    "delta_charge = 1\n",
    "target_initial_charge = 0  # Initial charge of the system.\n",
    "basis_set = 'aug-cc-pV5Z'  # cc-pV5Z, aug-cc-pVTZ, aug-cc-pVQZ, aug-cc-pV5Z, CBS-aug\n",
    "\n",
    "return_qats_vs_qa = True  # Returns APDFTn - APDFT instead of energy predictions.\n",
    "\n",
    "use_ts = True  # Use finite differences with Taylor series for APDFT predictions.\n",
    "change_signs = False  # Multiple all predictions by negative one (e.g., for electron affinities)\n",
    "\n",
    "ie_qats_predictions = energy_change_charge_qa_atom(\n",
    "    df_qc, df_qats, system_label, delta_charge,\n",
    "    target_initial_charge=target_initial_charge,\n",
    "    change_signs=change_signs, basis_set=basis_set, use_ts=use_ts,\n",
    "    return_qats_vs_qa=return_qats_vs_qa\n",
    ")\n",
    "\n",
    "ie_qats_predictions = {key:hartree_to_ev(value) for (key,value) in ie_qats_predictions.items()}\n",
    "\n",
    "print(f'Differences between APDFTn and APDFT in eV:')\n",
    "print(pd.DataFrame(ie_qats_predictions, index=[f'QATS-{n}' for n in range(5)]))"
   ]
  },
  {
   "cell_type": "markdown",
   "metadata": {},
   "source": [
    "## Overall statistics\n",
    "\n",
    "We can also compute mean absolute errors (MAEs), root mean squared error (RMSE) and max error."
   ]
  },
  {
   "cell_type": "code",
   "execution_count": 6,
   "metadata": {},
   "outputs": [
    {
     "name": "stdout",
     "output_type": "stream",
     "text": [
      "QATS-0 MAE: 14.5811 eV\n",
      "QATS-1 MAE: 3.6138 eV\n",
      "QATS-2 MAE: 0.3958 eV\n",
      "QATS-3 MAE: 1.0075 eV\n",
      "QATS-4 MAE: 2.7050 eV\n",
      "\n",
      "QATS-0 RMSE: 16.6775 eV\n",
      "QATS-1 RMSE: 4.5460 eV\n",
      "QATS-2 RMSE: 0.6555 eV\n",
      "QATS-3 RMSE: 2.7752 eV\n",
      "QATS-4 RMSE: 6.5716 eV\n",
      "\n",
      "QATS-0 Max Abs.: 50.5211 eV\n",
      "QATS-1 Max Abs.: 13.7508 eV\n",
      "QATS-2 Max Abs.: 2.7449 eV\n",
      "QATS-3 Max Abs.: 12.9765 eV\n",
      "QATS-4 Max Abs.: 25.9311 eV\n"
     ]
    }
   ],
   "source": [
    "all_systems = all_atom_systems[1:]\n",
    "basis_set = 'aug-cc-pV5Z'\n",
    "target_initial_charge = 0\n",
    "\n",
    "use_ts = True\n",
    "return_qats_vs_qa = False\n",
    "considered_lambdas = [-1, 1]\n",
    "\n",
    "delta_charge = 1\n",
    "change_signs = False\n",
    "max_qats_order = 4\n",
    "ignore_one_row = True\n",
    "\n",
    "\n",
    "for i in range(len(all_systems)):\n",
    "    sys_error = error_change_charge_qats_atoms(\n",
    "        df_qc, df_qats, all_systems[i], delta_charge, change_signs=change_signs, \n",
    "        basis_set=basis_set, target_initial_charge=target_initial_charge,\n",
    "        use_ts=use_ts, ignore_one_row=ignore_one_row,\n",
    "        return_qats_vs_qa=return_qats_vs_qa,\n",
    "        considered_lambdas=considered_lambdas\n",
    "    )\n",
    "    if i == 0:\n",
    "        all_error = sys_error\n",
    "    else:\n",
    "        all_error = pd.concat(\n",
    "            [all_error, sys_error], axis=1\n",
    "        )\n",
    "\n",
    "if use_ts or return_qats_vs_qa == True:\n",
    "    # MAE\n",
    "    for n in range(0, max_qats_order+1):\n",
    "        qatsn_errors = all_error.iloc[n].values\n",
    "        qatsn_mae = np.mean(np.abs(qatsn_errors))\n",
    "        print(f'QATS-{n} MAE: {qatsn_mae:.4f} eV')\n",
    "\n",
    "    # RMSE\n",
    "    print()\n",
    "    for n in range(0, max_qats_order+1):\n",
    "        qatsn_errors = all_error.iloc[n].values\n",
    "        qatsn_rmse = np.sqrt(np.mean((qatsn_errors)**2))\n",
    "        print(f'QATS-{n} RMSE: {qatsn_rmse:.4f} eV')\n",
    "    \n",
    "    # Max\n",
    "    print()\n",
    "    for n in range(0, max_qats_order+1):\n",
    "        qatsn_errors = all_error.iloc[n].values\n",
    "        qatsn_max = np.max(np.abs(qatsn_errors))\n",
    "        print(f'QATS-{n} Max Abs.: {qatsn_max:.4f} eV')\n",
    "else:\n",
    "    # MAE\n",
    "    qatsn_errors = all_error.iloc[0].values\n",
    "    qatsn_mae = np.mean(np.abs(qatsn_errors))\n",
    "    print(f'Qauntum alchemy MAE: {qatsn_mae:.4f} eV')\n",
    "\n",
    "    # RMSE\n",
    "    print()\n",
    "    qatsn_rmse = np.sqrt(np.mean((qatsn_errors)**2))\n",
    "    print(f'Quantum alchemy RMSE: {qatsn_rmse:.4f} eV')\n",
    "\n",
    "    # Max\n",
    "    print()\n",
    "    qatsn_max = np.max(np.abs(qatsn_errors))\n",
    "    print(f'Quantum alchemy Max Abs.: {qatsn_max:.4f} eV')\n"
   ]
  }
 ],
 "metadata": {
  "interpreter": {
   "hash": "e7370f93d1d0cde622a1f8e1c04877d8463912d04d973331ad4851f04de6915a"
  },
  "kernelspec": {
   "display_name": "Python 3 (ipykernel)",
   "language": "python",
   "name": "python3"
  },
  "language_info": {
   "codemirror_mode": {
    "name": "ipython",
    "version": 3
   },
   "file_extension": ".py",
   "mimetype": "text/x-python",
   "name": "python",
   "nbconvert_exporter": "python",
   "pygments_lexer": "ipython3",
   "version": "3.8.10"
  },
  "metadata": {
   "interpreter": {
    "hash": "1b40a011e729b217253a6703e3a50bab703685f13ebc69dadb4df728bd46068a"
   }
  }
 },
 "nbformat": 4,
 "nbformat_minor": 2
}
