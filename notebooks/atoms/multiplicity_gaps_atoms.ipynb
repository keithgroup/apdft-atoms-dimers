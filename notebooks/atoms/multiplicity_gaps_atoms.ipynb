{
 "cells": [
  {
   "cell_type": "markdown",
   "metadata": {},
   "source": [
    "# APDFT Analysis of Multiplicity Gaps (MG)\n",
    "\n",
    "Predictions can use\n",
    "\n",
    "- **QC**: HF, CCSD, or CCSD(T) energy differences with the species of interests or target,\n",
    "- **APDFT**: HF, CCSD, or CCSD(T) energy differences by changing the nuclear charge of other systems that have the same number of electrons as the target,\n",
    "- **APDFT*n***: Taylor series approximation with order *n* of the APDFT potential energy surface."
   ]
  },
  {
   "cell_type": "code",
   "execution_count": 1,
   "metadata": {},
   "outputs": [],
   "source": [
    "import numpy as np\n",
    "import pandas as pd\n",
    "import matplotlib.pyplot as plt\n",
    "from matplotlib import colors\n",
    "\n",
    "from qa_tools.utils import hartree_to_ev, all_atom_systems\n",
    "from qa_tools.data import prepare_dfs\n",
    "from qa_tools.prediction import get_qc_excitation, get_qats_excitation\n",
    "from qa_tools.analysis import qats_error_excitation_energy\n",
    "\n",
    "json_path = '../../json-data/atom-pyscf.qa-data.posthf.json'\n",
    "df_qc, df_qats = prepare_dfs(json_path, get_CBS=False)"
   ]
  },
  {
   "cell_type": "markdown",
   "metadata": {},
   "source": [
    "## APDFT prediction errors\n",
    "\n",
    "There is some intrinsic error in modeling a target system (e.g., N atom) by changing the nuclear charge of a reference system's basis set (e.g., C<sup> &ndash;</sup> ).\n",
    "The following cell computes this error, and represents the best performance for APDFT without fortuitous errors."
   ]
  },
  {
   "cell_type": "code",
   "execution_count": 2,
   "metadata": {},
   "outputs": [],
   "source": [
    "system_label = 'n'\n",
    "excitation_level = 1\n",
    "target_charge = 0  # System charge\n",
    "basis_set = 'aug-cc-pV5Z'  # aug-cc-pVTZ, aug-cc-pVQZ, aug-cc-pV5Z, CBS-aug"
   ]
  },
  {
   "cell_type": "code",
   "execution_count": 3,
   "metadata": {},
   "outputs": [
    {
     "name": "stdout",
     "output_type": "stream",
     "text": [
      "PySCF prediction of MG for n: 2.679 eV\n",
      "\n",
      "APDFT prediction errors in eV:\n",
      "              b        c         f         o\n",
      "APDFT  0.007094 -0.00066  0.001433  0.000469\n"
     ]
    }
   ],
   "source": [
    "use_qats = False  # Use finite differences with Taylor series for APDFT predictions.\n",
    "\n",
    "mg_qc_prediction = get_qc_excitation(\n",
    "    df_qc, system_label, target_charge=target_charge,\n",
    "    excitation_level=excitation_level,\n",
    "    basis_set=basis_set\n",
    ")\n",
    "mg_qats_predictions = get_qats_excitation(\n",
    "    df_qc, df_qats, system_label, target_charge=target_charge,\n",
    "    excitation_level=excitation_level,\n",
    "    basis_set=basis_set, use_qats=use_qats\n",
    ")\n",
    "\n",
    "mg_qc_prediction = hartree_to_ev(mg_qc_prediction)\n",
    "mg_qats_predictions = {key:hartree_to_ev(value) for (key,value) in mg_qats_predictions.items()}\n",
    "mg_qats_errors = {key:value-mg_qc_prediction for (key,value) in mg_qats_predictions.items()}\n",
    "\n",
    "print(f'PySCF prediction of MG for {system_label}: {mg_qc_prediction:.3f} eV\\n')\n",
    "print(f'APDFT prediction errors in eV:')\n",
    "print(pd.DataFrame(mg_qats_errors, index=[f'APDFT']))"
   ]
  },
  {
   "cell_type": "markdown",
   "metadata": {},
   "source": [
    "## APDFT*n* prediction errors\n",
    "\n",
    "Now, we can look at approximating the APDFT prediction by using a Taylor series centered on $\\Delta Z = 0$."
   ]
  },
  {
   "cell_type": "code",
   "execution_count": 4,
   "metadata": {},
   "outputs": [
    {
     "name": "stdout",
     "output_type": "stream",
     "text": [
      "PySCF prediction of MG for n: 2.679 eV\n",
      "\n",
      "APDFTn prediction errors in eV:\n",
      "                 b             c         f         o\n",
      "APDFT0   -2.365337     -1.196606  1.829270  0.945991\n",
      "APDFT1   -2.452939      0.597803  0.100157  0.042022\n",
      "APDFT2   -8.922763      6.668563  0.045459  0.013302\n",
      "APDFT3  -26.595237   -543.715144  0.019743  0.004300\n",
      "APDFT4  850.395494 -36837.482472  0.018841  0.001096\n"
     ]
    }
   ],
   "source": [
    "use_qats = True  # Use finite differences with Taylor series for APDFT predictions.\n",
    "\n",
    "mg_qc_prediction = get_qc_excitation(\n",
    "    df_qc, system_label, target_charge=target_charge,\n",
    "    excitation_level=excitation_level,\n",
    "    basis_set=basis_set\n",
    ")\n",
    "mg_qats_predictions = get_qats_excitation(\n",
    "    df_qc, df_qats, system_label, target_charge=target_charge,\n",
    "    excitation_level=excitation_level,\n",
    "    basis_set=basis_set, use_qats=use_qats\n",
    ")\n",
    "\n",
    "mg_qc_prediction = hartree_to_ev(mg_qc_prediction)\n",
    "mg_qats_predictions = {key:hartree_to_ev(value) for (key,value) in mg_qats_predictions.items()}\n",
    "mg_qats_errors = {key:value-mg_qc_prediction for (key,value) in mg_qats_predictions.items()}\n",
    "\n",
    "print(f'PySCF prediction of MG for {system_label}: {mg_qc_prediction:.3f} eV\\n')\n",
    "print(f'APDFTn prediction errors in eV:')\n",
    "print(pd.DataFrame(mg_qats_errors, index=[f'APDFT{n}' for n in range(5)]))"
   ]
  },
  {
   "cell_type": "markdown",
   "metadata": {},
   "source": [
    "### Specifying lambda values\n",
    "\n",
    "We can also specify specific lambda values to include. For example, we could only look at lambda values of +-1."
   ]
  },
  {
   "cell_type": "code",
   "execution_count": 5,
   "metadata": {},
   "outputs": [
    {
     "name": "stdout",
     "output_type": "stream",
     "text": [
      "PySCF prediction of MG for n: 2.679 eV\n",
      "\n",
      "APDFTn prediction errors in eV:\n",
      "                   c         o\n",
      "APDFT0     -1.196606  0.945991\n",
      "APDFT1      0.597803  0.042022\n",
      "APDFT2      6.668563  0.013302\n",
      "APDFT3   -543.715144  0.004300\n",
      "APDFT4 -36837.482472  0.001096\n"
     ]
    }
   ],
   "source": [
    "considered_lambdas = [-1, 1]\n",
    "\n",
    "use_qats = True  # Use finite differences with Taylor series for APDFT predictions.\n",
    "\n",
    "mg_qc_prediction = get_qc_excitation(\n",
    "    df_qc, system_label, target_charge=target_charge,\n",
    "    excitation_level=excitation_level,\n",
    "    basis_set=basis_set\n",
    ")\n",
    "mg_qats_predictions = get_qats_excitation(\n",
    "    df_qc, df_qats, system_label, target_charge=target_charge,\n",
    "    excitation_level=excitation_level,\n",
    "    basis_set=basis_set, use_qats=use_qats,\n",
    "    considered_lambdas=considered_lambdas\n",
    ")\n",
    "\n",
    "mg_qc_prediction = hartree_to_ev(mg_qc_prediction)\n",
    "mg_qats_predictions = {key:hartree_to_ev(value) for (key,value) in mg_qats_predictions.items()}\n",
    "mg_qats_errors = {key:value-mg_qc_prediction for (key,value) in mg_qats_predictions.items()}\n",
    "\n",
    "print(f'PySCF prediction of MG for {system_label}: {mg_qc_prediction:.3f} eV\\n')\n",
    "print(f'APDFTn prediction errors in eV:')\n",
    "print(pd.DataFrame(mg_qats_errors, index=[f'APDFT{n}' for n in range(5)]))"
   ]
  },
  {
   "cell_type": "markdown",
   "metadata": {},
   "source": [
    "## APDFT*n* errors with respect to APDFT\n",
    "\n",
    "Or you, can compute the difference between APDFT*n* (predictions with Taylor series) and APDFT."
   ]
  },
  {
   "cell_type": "code",
   "execution_count": 6,
   "metadata": {},
   "outputs": [
    {
     "name": "stdout",
     "output_type": "stream",
     "text": [
      "Differences between APDFTn and APDFT in eV:\n",
      "                 b             c         f         o\n",
      "APDFT0   -2.372431     -1.195946  1.827837  0.945521\n",
      "APDFT1   -2.460033      0.598463  0.098724  0.041553\n",
      "APDFT2   -8.929857      6.669223  0.044026  0.012833\n",
      "APDFT3  -26.602331   -543.714485  0.018310  0.003830\n",
      "APDFT4  850.388400 -36837.481812  0.017408  0.000627\n"
     ]
    }
   ],
   "source": [
    "compute_difference = True  # Returns APDFTn - APDFT instead of energy predictions.\n",
    "\n",
    "use_qats = True  # Use finite differences with Taylor series for APDFT predictions.\n",
    "\n",
    "mg_qats_predictions = get_qats_excitation(\n",
    "    df_qc, df_qats, system_label, target_charge=target_charge,\n",
    "    excitation_level=excitation_level,\n",
    "    basis_set=basis_set, use_qats=use_qats,\n",
    "    compute_difference=compute_difference\n",
    ")\n",
    "\n",
    "mg_qats_predictions = {key:hartree_to_ev(value) for (key,value) in mg_qats_predictions.items()}\n",
    "\n",
    "print(f'Differences between APDFTn and APDFT in eV:')\n",
    "print(pd.DataFrame(mg_qats_predictions, index=[f'APDFT{n}' for n in range(5)]))"
   ]
  },
  {
   "cell_type": "markdown",
   "metadata": {},
   "source": [
    "## Overall statistics\n",
    "\n",
    "We can also compute mean absolute errors (MAEs), root mean squared error (RMSE) and max error."
   ]
  },
  {
   "cell_type": "code",
   "execution_count": 7,
   "metadata": {},
   "outputs": [
    {
     "name": "stdout",
     "output_type": "stream",
     "text": [
      "APDFT0 MAE: 12.5 eV\n",
      "APDFT1 MAE: 6.6 eV\n",
      "APDFT2 MAE: 447.9 eV\n",
      "APDFT3 MAE: 22890.7 eV\n",
      "APDFT4 MAE: 4341314.0 eV\n",
      "\n",
      "APDFT0 RMSE: 26.5 eV\n",
      "APDFT1 RMSE: 14.7 eV\n",
      "APDFT2 RMSE: 2189.1 eV\n",
      "APDFT3 RMSE: 99484.6 eV\n",
      "APDFT4 RMSE: 21888096.7 eV\n",
      "\n",
      "APDFT0 Max Abs.: 137.3 eV\n",
      "APDFT1 Max Abs.: 74.4 eV\n",
      "APDFT2 Max Abs.: 16434.6 eV\n",
      "APDFT3 Max Abs.: 565038.7 eV\n",
      "APDFT4 Max Abs.: 164423334.1 eV\n"
     ]
    }
   ],
   "source": [
    "all_systems = all_atom_systems[:]\n",
    "basis_set = 'aug-cc-pV5Z'\n",
    "target_charge = 0\n",
    "excitation_level = 1\n",
    "\n",
    "use_qats = True\n",
    "considered_lambdas = None\n",
    "compute_difference = False\n",
    "\n",
    "max_qa_order = 4\n",
    "\n",
    "for i in range(len(all_systems)):\n",
    "    sys_error = qats_error_excitation_energy(\n",
    "        df_qc, df_qats, all_systems[i], target_charge=target_charge,\n",
    "        excitation_level=excitation_level, basis_set=basis_set,\n",
    "        use_qats=use_qats,\n",
    "        compute_difference=compute_difference,\n",
    "        considered_lambdas=considered_lambdas\n",
    "    )\n",
    "    if i == 0:\n",
    "        all_error = sys_error\n",
    "    else:\n",
    "        all_error = pd.concat(\n",
    "            [all_error, sys_error], axis=1\n",
    "        )\n",
    "\n",
    "if use_qats or compute_difference == True:\n",
    "    # MAE\n",
    "    for n in range(0, max_qa_order+1):\n",
    "        apdftn_errors = all_error.iloc[n].values\n",
    "        apdftn_mae = np.mean(np.abs(apdftn_errors))\n",
    "        print(f'APDFT{n} MAE: {apdftn_mae:.1f} eV')\n",
    "\n",
    "    # RMSE\n",
    "    print()\n",
    "    for n in range(0, max_qa_order+1):\n",
    "        apdftn_errors = all_error.iloc[n].values\n",
    "        apdftn_rmse = np.sqrt(np.mean((apdftn_errors)**2))\n",
    "        print(f'APDFT{n} RMSE: {apdftn_rmse:.1f} eV')\n",
    "    \n",
    "    # Max\n",
    "    print()\n",
    "    for n in range(0, max_qa_order+1):\n",
    "        apdftn_errors = all_error.iloc[n].values\n",
    "        apdftn_max = np.max(np.abs(apdftn_errors))\n",
    "        print(f'APDFT{n} Max Abs.: {apdftn_max:.1f} eV')\n",
    "else:\n",
    "    # MAE\n",
    "    apdftn_errors = all_error.iloc[0].values\n",
    "    apdftn_mae = np.mean(np.abs(apdftn_errors))\n",
    "    print(f'APDFT MAE: {apdftn_mae:.1f} eV')\n",
    "\n",
    "    # RMSE\n",
    "    print()\n",
    "    apdftn_rmse = np.sqrt(np.mean((apdftn_errors)**2))\n",
    "    print(f'APDFT RMSE: {apdftn_rmse:.1f} eV')\n",
    "\n",
    "    # Max\n",
    "    print()\n",
    "    apdftn_max = np.max(np.abs(apdftn_errors))\n",
    "    print(f'APDFT Max Abs.: {apdftn_max:.1f} eV')\n"
   ]
  }
 ],
 "metadata": {
  "interpreter": {
   "hash": "e7370f93d1d0cde622a1f8e1c04877d8463912d04d973331ad4851f04de6915a"
  },
  "kernelspec": {
   "display_name": "Python 3 (ipykernel)",
   "language": "python",
   "name": "python3"
  },
  "language_info": {
   "codemirror_mode": {
    "name": "ipython",
    "version": 3
   },
   "file_extension": ".py",
   "mimetype": "text/x-python",
   "name": "python",
   "nbconvert_exporter": "python",
   "pygments_lexer": "ipython3",
   "version": "3.8.10"
  },
  "metadata": {
   "interpreter": {
    "hash": "1b40a011e729b217253a6703e3a50bab703685f13ebc69dadb4df728bd46068a"
   }
  }
 },
 "nbformat": 4,
 "nbformat_minor": 2
}
