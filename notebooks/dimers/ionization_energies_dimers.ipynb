{
 "cells": [
  {
   "cell_type": "markdown",
   "metadata": {},
   "source": [
    "# APDFT Analysis\n",
    "\n",
    "Predictions can use\n",
    "\n",
    "- **QC**: HF, CCSD, or CCSD(T) energy differences with the species of interests or target,\n",
    "- **APDFT**: HF, CCSD, or CCSD(T) energy differences by changing the nuclear charge of other systems that have the same number of electrons as the target,\n",
    "- **APDFT*n***: Taylor series approximation with order *n* of the APDFT potential energy surface."
   ]
  },
  {
   "cell_type": "code",
   "execution_count": 1,
   "metadata": {},
   "outputs": [],
   "source": [
    "import numpy as np\n",
    "import pandas as pd\n",
    "import matplotlib.pyplot as plt\n",
    "plt.rcParams['figure.figsize'] = [7, 5]\n",
    "plt.rcParams['font.size'] = 12\n",
    "\n",
    "from apdft_tools.utils import hartree_to_ev, all_dimer_systems\n",
    "from apdft_tools.data import prepare_dfs\n",
    "from apdft_tools.prediction import *\n",
    "from apdft_tools.analysis import apdft_error_change_charge_dimer\n",
    "\n",
    "json_path = '../../json-data/dimer-pyscf.apdft-data.posthf.json'\n",
    "df_qc, df_apdft = prepare_dfs(json_path, get_CBS=False)"
   ]
  },
  {
   "cell_type": "markdown",
   "metadata": {},
   "source": [
    "## Alchemy prediction errors\n",
    "\n",
    "There is some intrinsic error in modeling a target system (e.g., N atom) by changing the nuclear charge of a reference system's basis set (e.g., C<sup> &ndash;</sup> ).\n",
    "The following cell computes this error, and represents the best performance for alchemy without fortuitous errors."
   ]
  },
  {
   "cell_type": "code",
   "execution_count": 2,
   "metadata": {},
   "outputs": [],
   "source": [
    "system_label = 'c.h'\n",
    "delta_charge = 1\n",
    "target_initial_charge = 0  # Initial charge of the system.\n",
    "basis_set = 'cc-pV5Z'\n",
    "lambda_specific_atom = 0\n",
    "change_signs = False  # Multiple all predictions by negative one (e.g., for electron affinities)\n",
    "\n",
    "n_points = 2\n",
    "poly_order = 4\n",
    "\n",
    "qm_color = '#577590'\n",
    "apdft_colors = [\"#F94144\", \"#F8961E\", \"#43AA8B\"]"
   ]
  },
  {
   "cell_type": "code",
   "execution_count": 3,
   "metadata": {},
   "outputs": [
    {
     "name": "stdout",
     "output_type": "stream",
     "text": [
      "PySCF prediction of IE for c.h: 10.625 eV\n",
      "\n",
      "APDFT prediction errors in eV:\n",
      "           b.h       n.h\n",
      "APDFT -0.00391 -0.023215\n"
     ]
    }
   ],
   "source": [
    "use_fin_diff = False  # Use finite differences with Taylor series for APDFT predictions.\n",
    "remove_outliers = True\n",
    "\n",
    "ie_qc_prediction = get_qc_change_charge_dimer(\n",
    "    df_qc, system_label, delta_charge,\n",
    "    target_initial_charge=target_initial_charge,\n",
    "    change_signs=change_signs, basis_set=basis_set,\n",
    "    n_points=n_points, poly_order=poly_order, remove_outliers=remove_outliers\n",
    ")\n",
    "ie_apdft_predictions = get_apdft_change_charge_dimer(\n",
    "    df_qc, df_apdft, system_label, delta_charge,\n",
    "    target_initial_charge=target_initial_charge,\n",
    "    change_signs=change_signs, basis_set=basis_set,\n",
    "    use_fin_diff=use_fin_diff, lambda_specific_atom=lambda_specific_atom,\n",
    "    n_points=n_points, poly_order=poly_order, remove_outliers=remove_outliers\n",
    ")\n",
    "\n",
    "ie_qc_prediction = hartree_to_ev(ie_qc_prediction)\n",
    "ie_apdft_predictions = {key:hartree_to_ev(value) for (key,value) in ie_apdft_predictions.items()}\n",
    "ie_apdft_errors = {key:value-ie_qc_prediction for (key,value) in ie_apdft_predictions.items()}\n",
    "\n",
    "print(f'PySCF prediction of IE for {system_label}: {ie_qc_prediction:.3f} eV\\n')\n",
    "print(f'APDFT prediction errors in eV:')\n",
    "print(pd.DataFrame(ie_apdft_errors, index=[f'APDFT']))"
   ]
  },
  {
   "cell_type": "markdown",
   "metadata": {},
   "source": [
    "## APDFT*n* prediction errors\n",
    "\n",
    "Now, we can look at approximating the APDFT prediction by using a Taylor series centered on $\\Delta Z = 0$."
   ]
  },
  {
   "cell_type": "code",
   "execution_count": 4,
   "metadata": {},
   "outputs": [
    {
     "name": "stdout",
     "output_type": "stream",
     "text": [
      "PySCF prediction of IE for c.h: 10.625 eV\n",
      "\n",
      "APDFTn prediction errors in eV:\n",
      "              b.h        n.h\n",
      "APDFT0 -10.676304  15.824991\n",
      "APDFT1  -2.933397  -2.474227\n",
      "APDFT2  -0.197748  -0.037280\n",
      "APDFT3   0.440954  -0.089914\n",
      "APDFT4   1.183081  -0.336727\n"
     ]
    },
    {
     "name": "stderr",
     "output_type": "stream",
     "text": [
      "/home/alex/.local/lib/python3.8/site-packages/apdft_tools/prediction.py:609: RankWarning: Polyfit may be poorly conditioned\n",
      "  bond_lengths_fit, poly_coeffs = fit_dimer_poly(\n",
      "/home/alex/.local/lib/python3.8/site-packages/apdft_tools/prediction.py:609: RankWarning: Polyfit may be poorly conditioned\n",
      "  bond_lengths_fit, poly_coeffs = fit_dimer_poly(\n"
     ]
    }
   ],
   "source": [
    "use_fin_diff = True  # Use finite differences with Taylor series for APDFT predictions.\n",
    "remove_outliers = True\n",
    "\n",
    "ie_qc_prediction = get_qc_change_charge_dimer(\n",
    "    df_qc, system_label, delta_charge,\n",
    "    target_initial_charge=target_initial_charge,\n",
    "    change_signs=change_signs, basis_set=basis_set,\n",
    "    n_points=n_points, poly_order=poly_order, remove_outliers=remove_outliers\n",
    ")\n",
    "ie_apdft_predictions = get_apdft_change_charge_dimer(\n",
    "    df_qc, df_apdft, system_label, delta_charge,\n",
    "    target_initial_charge=target_initial_charge,\n",
    "    change_signs=change_signs, basis_set=basis_set,\n",
    "    use_fin_diff=use_fin_diff, lambda_specific_atom=lambda_specific_atom,\n",
    "    n_points=n_points, poly_order=poly_order, remove_outliers=remove_outliers\n",
    ")\n",
    "\n",
    "ie_qc_prediction = hartree_to_ev(ie_qc_prediction)\n",
    "ie_apdft_predictions = {key:hartree_to_ev(value) for (key,value) in ie_apdft_predictions.items()}\n",
    "ie_apdft_errors = {key:value-ie_qc_prediction for (key,value) in ie_apdft_predictions.items()}\n",
    "\n",
    "print(f'PySCF prediction of IE for {system_label}: {ie_qc_prediction:.3f} eV\\n')\n",
    "print(f'APDFTn prediction errors in eV:')\n",
    "print(pd.DataFrame(ie_apdft_errors, index=[f'APDFT{n}' for n in range(5)]))"
   ]
  },
  {
   "cell_type": "markdown",
   "metadata": {},
   "source": [
    "### Specifying lambda values\n",
    "\n",
    "We can also specify specific lambda values to include. For example, we could only look at lambda values of +-1."
   ]
  },
  {
   "cell_type": "code",
   "execution_count": 5,
   "metadata": {},
   "outputs": [
    {
     "name": "stdout",
     "output_type": "stream",
     "text": [
      "PySCF prediction of IE for c.h: 10.625 eV\n",
      "\n",
      "APDFTn prediction errors in eV:\n",
      "              n.h\n",
      "APDFT0  15.824991\n",
      "APDFT1  -2.474227\n",
      "APDFT2  -0.037280\n",
      "APDFT3  -0.089914\n",
      "APDFT4  -0.336727\n"
     ]
    },
    {
     "name": "stderr",
     "output_type": "stream",
     "text": [
      "/home/alex/.local/lib/python3.8/site-packages/apdft_tools/prediction.py:609: RankWarning: Polyfit may be poorly conditioned\n",
      "  bond_lengths_fit, poly_coeffs = fit_dimer_poly(\n"
     ]
    }
   ],
   "source": [
    "considered_lambdas = [-1]\n",
    "use_fin_diff = True  # Use finite differences with Taylor series for APDFT predictions.\n",
    "remove_outliers = True\n",
    "\n",
    "ie_qc_prediction = get_qc_change_charge_dimer(\n",
    "    df_qc, system_label, delta_charge,\n",
    "    target_initial_charge=target_initial_charge,\n",
    "    change_signs=change_signs, basis_set=basis_set,\n",
    "    n_points=n_points, poly_order=poly_order, remove_outliers=remove_outliers\n",
    ")\n",
    "ie_apdft_predictions = get_apdft_change_charge_dimer(\n",
    "    df_qc, df_apdft, system_label, delta_charge,\n",
    "    target_initial_charge=target_initial_charge,\n",
    "    change_signs=change_signs, basis_set=basis_set,\n",
    "    use_fin_diff=use_fin_diff, lambda_specific_atom=lambda_specific_atom,\n",
    "    n_points=n_points, poly_order=poly_order, remove_outliers=remove_outliers,\n",
    "    considered_lambdas=considered_lambdas\n",
    ")\n",
    "\n",
    "ie_qc_prediction = hartree_to_ev(ie_qc_prediction)\n",
    "ie_apdft_predictions = {key:hartree_to_ev(value) for (key,value) in ie_apdft_predictions.items()}\n",
    "ie_apdft_errors = {key:value-ie_qc_prediction for (key,value) in ie_apdft_predictions.items()}\n",
    "\n",
    "print(f'PySCF prediction of IE for {system_label}: {ie_qc_prediction:.3f} eV\\n')\n",
    "print(f'APDFTn prediction errors in eV:')\n",
    "print(pd.DataFrame(ie_apdft_errors, index=[f'APDFT{n}' for n in range(5)]))"
   ]
  },
  {
   "cell_type": "markdown",
   "metadata": {},
   "source": [
    "## APDFT*n* errors with respect to alchemy\n",
    "\n",
    "Or you, can compute the difference between APDFT*n* (predictions with Taylor series) and APDFT."
   ]
  },
  {
   "cell_type": "code",
   "execution_count": 6,
   "metadata": {},
   "outputs": [
    {
     "name": "stdout",
     "output_type": "stream",
     "text": [
      "Differences between APDFTn and APDFT in eV:\n",
      "              b.h        n.h\n",
      "APDFT0 -10.672394  15.848206\n",
      "APDFT1  -2.929487  -2.451012\n",
      "APDFT2  -0.193837  -0.014065\n",
      "APDFT3   0.444864  -0.066699\n",
      "APDFT4   1.186991  -0.313512\n"
     ]
    },
    {
     "name": "stderr",
     "output_type": "stream",
     "text": [
      "/home/alex/.local/lib/python3.8/site-packages/apdft_tools/prediction.py:609: RankWarning: Polyfit may be poorly conditioned\n",
      "  bond_lengths_fit, poly_coeffs = fit_dimer_poly(\n",
      "/home/alex/.local/lib/python3.8/site-packages/apdft_tools/prediction.py:609: RankWarning: Polyfit may be poorly conditioned\n",
      "  bond_lengths_fit, poly_coeffs = fit_dimer_poly(\n"
     ]
    }
   ],
   "source": [
    "use_fin_diff = True  # Use finite differences with Taylor series for APDFT predictions.\n",
    "\n",
    "ie_apdft_predictions = get_apdft_change_charge_dimer(\n",
    "    df_qc, df_apdft, system_label, delta_charge,\n",
    "    target_initial_charge=target_initial_charge,\n",
    "    change_signs=change_signs, basis_set=basis_set,\n",
    "    use_fin_diff=use_fin_diff, lambda_specific_atom=lambda_specific_atom,\n",
    "    n_points=n_points, poly_order=poly_order, remove_outliers=True,\n",
    "    compute_difference=True\n",
    ")\n",
    "\n",
    "ie_apdft_predictions = {key:hartree_to_ev(value) for (key,value) in ie_apdft_predictions.items()}\n",
    "\n",
    "print(f'Differences between APDFTn and APDFT in eV:')\n",
    "print(pd.DataFrame(ie_apdft_predictions, index=[f'APDFT{n}' for n in range(5)]))"
   ]
  },
  {
   "cell_type": "markdown",
   "metadata": {},
   "source": [
    "## IP visualization\n"
   ]
  },
  {
   "cell_type": "code",
   "execution_count": 7,
   "metadata": {},
   "outputs": [
    {
     "data": {
      "text/plain": [
       "<matplotlib.legend.Legend at 0x7fb433ff2e20>"
      ]
     },
     "execution_count": 7,
     "metadata": {},
     "output_type": "execute_result"
    },
    {
     "data": {
      "image/png": "[encoded data removed]",
      "text/plain": [
       "<Figure size 504x360 with 1 Axes>"
      ]
     },
     "metadata": {},
     "output_type": "display_data"
    }
   ],
   "source": [
    "target_initial_charge = 0\n",
    "delta_charge = 1\n",
    "\n",
    "use_fin_diff = False\n",
    "apdft_order = 2\n",
    "\n",
    "target_final_charge = target_initial_charge + delta_charge\n",
    "\n",
    "# Reference QC data\n",
    "\n",
    "bl_qc_target_initial, e_qc_target_initial = dimer_binding_curve(\n",
    "    df_qc, system_label, target_initial_charge,\n",
    "    excitation_level=0, calc_type='qc'\n",
    ")\n",
    "bl_qc_target_final, e_qc_target_final = dimer_binding_curve(\n",
    "    df_qc, system_label, target_final_charge,\n",
    "    excitation_level=0, calc_type='qc'\n",
    ")\n",
    "\n",
    "bl_qc_ref_initial, e_qc_ref_initial = dimer_binding_curve(\n",
    "    df_qc, system_label, target_initial_charge, df_apdft=df_apdft,\n",
    "    excitation_level=0, calc_type='alchemy',\n",
    "    use_fin_diff=use_fin_diff, n_points=n_points, poly_order=poly_order\n",
    ")\n",
    "bl_qc_ref_final, e_qc_ref_final = dimer_binding_curve(\n",
    "    df_qc, system_label, target_final_charge, df_apdft=df_apdft,\n",
    "    excitation_level=0, calc_type='alchemy',\n",
    "    use_fin_diff=use_fin_diff, n_points=n_points, poly_order=poly_order\n",
    ")\n",
    "\n",
    "\n",
    "e_reference = np.min(e_qc_target_initial[system_label])\n",
    "\n",
    "e_qc_target_initial = e_qc_target_initial[system_label] - e_reference\n",
    "e_qc_target_final = e_qc_target_final[system_label] - e_reference\n",
    "\n",
    "###   FIGURE   ###\n",
    "# Plots the QC bond length curve.\n",
    "\n",
    "fig, ax = plt.subplots(1, 1, tight_layout=True)\n",
    "fig.patch.set_facecolor('white')\n",
    "\n",
    "ax.plot(\n",
    "    bl_qc_target_initial[system_label], hartree_to_ev(e_qc_target_initial),\n",
    "    marker='', markersize=5,\n",
    "    linewidth=1.5, color=qm_color, label=system_label\n",
    ")\n",
    "ax.plot(\n",
    "    bl_qc_target_final[system_label], hartree_to_ev(e_qc_target_final),\n",
    "    marker='', markersize=5,\n",
    "    linewidth=1.5, color=qm_color\n",
    ")\n",
    "\n",
    "\n",
    "i = 0\n",
    "for sys_label in e_qc_ref_initial.keys():\n",
    "    try:\n",
    "        bl_initial = bl_qc_ref_initial[sys_label]\n",
    "        bl_final = bl_qc_ref_final[sys_label]\n",
    "        e_initial = e_qc_ref_initial[sys_label]\n",
    "        e_final = e_qc_ref_final[sys_label]\n",
    "    except KeyError:\n",
    "        continue\n",
    "    \n",
    "    ax.plot(\n",
    "        bl_initial, hartree_to_ev(e_initial - e_reference),\n",
    "        marker='o', markersize=5, fillstyle='none',\n",
    "        linewidth=0.5, color=apdft_colors[i], label=sys_label\n",
    "    )\n",
    "    ax.plot(\n",
    "        bl_final, hartree_to_ev(e_final - e_reference),\n",
    "        marker='o', markersize=5, fillstyle='none',\n",
    "        linewidth=0.5, color=apdft_colors[i]\n",
    "    )\n",
    "    i += 1\n",
    "\n",
    "ax.set_xlabel('Bond Length ($\\AA$)')\n",
    "ax.set_ylabel('Energy (eV)')\n",
    "\n",
    "bl_text_idx = np.argmin(e_qc_target_initial)\n",
    "e_charged_text_idx = np.argmin(e_qc_target_final)\n",
    "e_buff = 2\n",
    "\n",
    "ax.text(\n",
    "    bl_qc_target_initial[system_label][bl_text_idx], 0 + e_buff, 'neutral'\n",
    ")\n",
    "ax.text(\n",
    "    bl_qc_target_initial[system_label][bl_text_idx],\n",
    "    hartree_to_ev(e_qc_target_final[e_charged_text_idx]) + e_buff,\n",
    "    'cation'\n",
    ")\n",
    "\n",
    "ax.legend()"
   ]
  },
  {
   "cell_type": "markdown",
   "metadata": {},
   "source": [
    "## Overall statistics\n",
    "\n",
    "We can also compute mean absolute errors (MAEs), root mean squared error (RMSE) and max error."
   ]
  },
  {
   "cell_type": "code",
   "execution_count": 8,
   "metadata": {},
   "outputs": [
    {
     "name": "stderr",
     "output_type": "stream",
     "text": [
      "/home/alex/.local/lib/python3.8/site-packages/apdft_tools/prediction.py:609: RankWarning: Polyfit may be poorly conditioned\n",
      "  bond_lengths_fit, poly_coeffs = fit_dimer_poly(\n",
      "/home/alex/.local/lib/python3.8/site-packages/apdft_tools/prediction.py:609: RankWarning: Polyfit may be poorly conditioned\n",
      "  bond_lengths_fit, poly_coeffs = fit_dimer_poly(\n",
      "/home/alex/.local/lib/python3.8/site-packages/apdft_tools/prediction.py:609: RankWarning: Polyfit may be poorly conditioned\n",
      "  bond_lengths_fit, poly_coeffs = fit_dimer_poly(\n",
      "/home/alex/.local/lib/python3.8/site-packages/apdft_tools/prediction.py:609: RankWarning: Polyfit may be poorly conditioned\n",
      "  bond_lengths_fit, poly_coeffs = fit_dimer_poly(\n",
      "/home/alex/.local/lib/python3.8/site-packages/apdft_tools/prediction.py:609: RankWarning: Polyfit may be poorly conditioned\n",
      "  bond_lengths_fit, poly_coeffs = fit_dimer_poly(\n",
      "/home/alex/.local/lib/python3.8/site-packages/apdft_tools/prediction.py:609: RankWarning: Polyfit may be poorly conditioned\n",
      "  bond_lengths_fit, poly_coeffs = fit_dimer_poly(\n",
      "/home/alex/.local/lib/python3.8/site-packages/apdft_tools/prediction.py:609: RankWarning: Polyfit may be poorly conditioned\n",
      "  bond_lengths_fit, poly_coeffs = fit_dimer_poly(\n",
      "/home/alex/.local/lib/python3.8/site-packages/apdft_tools/prediction.py:609: RankWarning: Polyfit may be poorly conditioned\n",
      "  bond_lengths_fit, poly_coeffs = fit_dimer_poly(\n",
      "/home/alex/.local/lib/python3.8/site-packages/apdft_tools/prediction.py:609: RankWarning: Polyfit may be poorly conditioned\n",
      "  bond_lengths_fit, poly_coeffs = fit_dimer_poly(\n"
     ]
    },
    {
     "name": "stdout",
     "output_type": "stream",
     "text": [
      "APDFT0 MAE: 13.1047 eV\n",
      "APDFT1 MAE: 2.4033 eV\n",
      "APDFT2 MAE: 0.1770 eV\n",
      "APDFT3 MAE: 0.7105 eV\n",
      "APDFT4 MAE: 1.3751 eV\n",
      "\n",
      "APDFT0 RMSE: 13.3311 eV\n",
      "APDFT1 RMSE: 2.4866 eV\n",
      "APDFT2 RMSE: 0.2114 eV\n",
      "APDFT3 RMSE: 0.9878 eV\n",
      "APDFT4 RMSE: 2.7991 eV\n",
      "\n",
      "APDFT0 max abs.: 15.8497 eV\n",
      "APDFT1 max abs.: 3.2443 eV\n",
      "APDFT2 max abs.: 0.4400 eV\n",
      "APDFT3 max abs.: 2.1275 eV\n",
      "APDFT4 max abs.: 9.2819 eV\n"
     ]
    },
    {
     "name": "stderr",
     "output_type": "stream",
     "text": [
      "/home/alex/.local/lib/python3.8/site-packages/apdft_tools/prediction.py:609: RankWarning: Polyfit may be poorly conditioned\n",
      "  bond_lengths_fit, poly_coeffs = fit_dimer_poly(\n",
      "/home/alex/.local/lib/python3.8/site-packages/apdft_tools/prediction.py:609: RankWarning: Polyfit may be poorly conditioned\n",
      "  bond_lengths_fit, poly_coeffs = fit_dimer_poly(\n"
     ]
    }
   ],
   "source": [
    "all_systems = all_dimer_systems[1:-1]\n",
    "target_initial_charge = 0\n",
    "\n",
    "considered_lambdas = None\n",
    "compute_difference = True\n",
    "use_fin_diff = True  # Use finite differences with Taylor series for APDFT predictions.\n",
    "remove_outliers = True\n",
    "delta_charge = 1\n",
    "max_apdft_order = 4\n",
    "\n",
    "for i in range(len(all_systems)):\n",
    "    sys_error = apdft_error_change_charge_dimer(\n",
    "        df_qc, df_apdft, all_systems[i], delta_charge,\n",
    "        target_initial_charge=target_initial_charge,\n",
    "        change_signs=change_signs, basis_set=basis_set,\n",
    "        use_fin_diff=use_fin_diff, lambda_specific_atom=lambda_specific_atom,\n",
    "        n_points=n_points, poly_order=poly_order, remove_outliers=remove_outliers,\n",
    "        compute_difference=compute_difference, considered_lambdas=considered_lambdas\n",
    "    )\n",
    "    if i == 0:\n",
    "        all_error = sys_error\n",
    "    else:\n",
    "        all_error = pd.concat(\n",
    "            [all_error, sys_error], axis=1\n",
    "        )\n",
    "\n",
    "if use_fin_diff or compute_difference == True:\n",
    "    # MAE\n",
    "    for n in range(0, max_apdft_order+1):\n",
    "        apdftn_errors = all_error.iloc[n].values\n",
    "        apdftn_mae = np.mean(np.abs(apdftn_errors))\n",
    "        print(f'APDFT{n} MAE: {apdftn_mae:.4f} eV')\n",
    "\n",
    "    # RMSE\n",
    "    print()\n",
    "    for n in range(0, max_apdft_order+1):\n",
    "        apdftn_errors = all_error.iloc[n].values\n",
    "        apdftn_rmse = np.sqrt(np.mean((apdftn_errors)**2))\n",
    "        print(f'APDFT{n} RMSE: {apdftn_rmse:.4f} eV')\n",
    "    \n",
    "    # Max\n",
    "    print()\n",
    "    for n in range(0, max_apdft_order+1):\n",
    "        apdftn_errors = all_error.iloc[n].values\n",
    "        apdftn_max = np.max(np.abs(apdftn_errors))\n",
    "        print(f'APDFT{n} max abs.: {apdftn_max:.4f} eV')\n",
    "else:\n",
    "    # MAE\n",
    "    apdftn_errors = all_error.iloc[0].values\n",
    "    apdftn_mae = np.mean(np.abs(apdftn_errors))\n",
    "    print(f'APDFT MAE: {apdftn_mae:.4f} eV')\n",
    "\n",
    "    # RMSE\n",
    "    print()\n",
    "    apdftn_rmse = np.sqrt(np.mean((apdftn_errors)**2))\n",
    "    print(f'APDFT RMSE: {apdftn_rmse:.4f} eV')\n",
    "\n",
    "    # Max\n",
    "    print()\n",
    "    apdftn_max = np.max(np.abs(apdftn_errors))\n",
    "    print(f'APDFT max abs.: {apdftn_max:.4f} eV')\n"
   ]
  }
 ],
 "metadata": {
  "interpreter": {
   "hash": "e7370f93d1d0cde622a1f8e1c04877d8463912d04d973331ad4851f04de6915a"
  },
  "kernelspec": {
   "display_name": "Python 3 (ipykernel)",
   "language": "python",
   "name": "python3"
  },
  "language_info": {
   "codemirror_mode": {
    "name": "ipython",
    "version": 3
   },
   "file_extension": ".py",
   "mimetype": "text/x-python",
   "name": "python",
   "nbconvert_exporter": "python",
   "pygments_lexer": "ipython3",
   "version": "3.8.10"
  },
  "metadata": {
   "interpreter": {
    "hash": "1b40a011e729b217253a6703e3a50bab703685f13ebc69dadb4df728bd46068a"
   }
  }
 },
 "nbformat": 4,
 "nbformat_minor": 2
}
