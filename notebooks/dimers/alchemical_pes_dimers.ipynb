{
 "cells": [
  {
   "cell_type": "markdown",
   "metadata": {},
   "source": [
    "# Alchemical PES and their errors\n"
   ]
  },
  {
   "cell_type": "code",
   "execution_count": 1,
   "metadata": {},
   "outputs": [],
   "source": [
    "import numpy as np\n",
    "import pandas as pd\n",
    "import matplotlib.pyplot as plt\n",
    "plt.rcParams['figure.figsize'] = [7, 5]\n",
    "plt.rcParams['font.size'] = 12\n",
    "\n",
    "from apdft_tools.utils import *\n",
    "from apdft_tools.utils import _remove_dimer_outliers, _dimer_poly_pred\n",
    "from apdft_tools.data import prepare_dfs\n",
    "from apdft_tools.prediction import *\n",
    "\n",
    "json_path = '../../json-data/dimer-pyscf.apdft-data.posthf.json'\n",
    "df_qc, df_apdft = prepare_dfs(json_path, get_CBS=False)"
   ]
  },
  {
   "cell_type": "markdown",
   "metadata": {},
   "source": [
    "## Alchemical PES errors with respect to QC\n",
    "\n",
    "Specifies the system of interest."
   ]
  },
  {
   "cell_type": "code",
   "execution_count": 2,
   "metadata": {},
   "outputs": [],
   "source": [
    "basis_set = 'cc-pV5Z'\n",
    "specific_atom = 0\n",
    "\n",
    "n_points = 2\n",
    "poly_order = 4\n",
    "\n",
    "qm_color = '#577590'"
   ]
  },
  {
   "cell_type": "code",
   "execution_count": 3,
   "metadata": {},
   "outputs": [
    {
     "name": "stdout",
     "output_type": "stream",
     "text": [
      "Alchemical error wrt QC\n",
      "        n.h       b.h\n",
      "0 -0.137232  0.544312\n"
     ]
    },
    {
     "name": "stderr",
     "output_type": "stream",
     "text": [
      "/home/alex/.local/lib/python3.8/site-packages/numpy/core/shape_base.py:65: VisibleDeprecationWarning: Creating an ndarray from ragged nested sequences (which is a list-or-tuple of lists-or-tuples-or ndarrays with different lengths or shapes) is deprecated. If you meant to do this, you must specify 'dtype=object' when creating the ndarray.\n",
      "  ary = asanyarray(ary)\n"
     ]
    },
    {
     "data": {
      "text/plain": [
       "<matplotlib.legend.Legend at 0x7f6c06886070>"
      ]
     },
     "execution_count": 3,
     "metadata": {},
     "output_type": "execute_result"
    },
    {
     "data": {
      "image/png": "[encoded data removed]",
      "text/plain": [
       "<Figure size 504x360 with 1 Axes>"
      ]
     },
     "metadata": {},
     "output_type": "display_data"
    }
   ],
   "source": [
    "system_label = 'c.h'\n",
    "system_charge = 0\n",
    "excitation_level = 0\n",
    "plot_apdft_orders = [0, 1, 2, 3, 4]\n",
    "considered_lambdas = [-1, 1]\n",
    "\n",
    "bl_eq_qc, e_eq_qc = dimer_eq(\n",
    "    df_qc, system_label, system_charge, excitation_level=excitation_level, calc_type='qc',\n",
    "    use_fin_diff=None, df_apdft=df_apdft, specific_atom=0,\n",
    "    direction=None, basis_set=basis_set, n_points=n_points, poly_order=poly_order,\n",
    "    remove_outliers=False, zscore_cutoff=3.0, considered_lambdas=considered_lambdas\n",
    ")\n",
    "\n",
    "bl_eq_pred_alchemy, e_eq_pred_alchemy = dimer_eq(\n",
    "    df_qc, system_label, system_charge, excitation_level=excitation_level, calc_type='alchemy',\n",
    "    use_fin_diff=False, df_apdft=df_apdft, specific_atom=0,\n",
    "    direction=None, basis_set=basis_set, n_points=n_points, poly_order=poly_order,\n",
    "    remove_outliers=False, zscore_cutoff=3.0, considered_lambdas=considered_lambdas\n",
    ")\n",
    "bl_eq_pred_apdft, e_eq_pred_apdft = dimer_eq(\n",
    "    df_qc, system_label, system_charge, excitation_level=excitation_level, calc_type='alchemy',\n",
    "    use_fin_diff=True, df_apdft=df_apdft, specific_atom=0,\n",
    "    direction=None, basis_set=basis_set, n_points=n_points, poly_order=poly_order,\n",
    "    remove_outliers=False, zscore_cutoff=3.0, considered_lambdas=considered_lambdas\n",
    ")\n",
    "\n",
    "atomic_numbers_target = system_to_atomic_numbers(system_label)\n",
    "atomic_numbers_refs = {key: system_to_atomic_numbers(key) for key in e_eq_pred_alchemy.keys()}\n",
    "lambda_values_refs = {\n",
    "    key: get_lambda_value(atomic_numbers_target, value, specific_atom=0) for key,value in atomic_numbers_refs.items()\n",
    "}\n",
    "\n",
    "e_ref = e_eq_qc[system_label]\n",
    "e_eq_pred_alchemy_error_qc = {key:hartree_to_ev(value-e_ref) for key,value in e_eq_pred_alchemy.items()}\n",
    "e_eq_pred_apdft_error_qc = {key:hartree_to_ev(value-e_ref) for key,value in e_eq_pred_apdft.items()}\n",
    "\n",
    "print('Alchemical error wrt QC')\n",
    "print(pd.DataFrame(e_eq_pred_alchemy_error_qc))\n",
    "\n",
    "\n",
    "\n",
    "###   FIGURE   ###\n",
    "lolli_line_width = 2\n",
    "yaxis_max = 3\n",
    "marker_size = 7\n",
    "edge_buffer = 0.15\n",
    "colors = ['#F94144', '#F8961E', '#43AA8B', '#577590', '#F9C74F']\n",
    "\n",
    "fig, ax = plt.subplots(1, 1, tight_layout=True)\n",
    "fig.patch.set_facecolor('white')\n",
    "\n",
    "ax.axhline(color='dimgrey', linestyle='-', alpha=0.3)\n",
    "ax.axvline(color='dimgrey', linestyle='--', alpha=0.3)\n",
    "\n",
    "\n",
    "i_color = 0\n",
    "sys_keys_sorted = list(e_eq_pred_apdft_error_qc.keys())\n",
    "sys_keys_sorted.sort()\n",
    "for key in sys_keys_sorted:\n",
    "    lambda_value = lambda_values_refs[key]\n",
    "    alchemy_error_qc = e_eq_pred_alchemy_error_qc[key]\n",
    "    apdft_error_qc = e_eq_pred_apdft_error_qc[key]\n",
    "    color = colors[i_color]\n",
    "    \n",
    "    # Alchemical error line\n",
    "    if lambda_value < 0:\n",
    "        x_alchemical = [lambda_value, lambda_value+1]\n",
    "    else:\n",
    "        x_alchemical = [lambda_value-1, lambda_value]\n",
    "    \n",
    "    ax.plot(\n",
    "        x_alchemical, [alchemy_error_qc, alchemy_error_qc],\n",
    "        marker='', color=color, label=key\n",
    "    )\n",
    "    \n",
    "    # APDFT error lollipop\n",
    "    x_apdft = np.linspace(x_alchemical[0] + edge_buffer, x_alchemical[1] - edge_buffer, num=len(plot_apdft_orders))\n",
    "    apdft_error_qc = apdft_error_qc[plot_apdft_orders]\n",
    "    \n",
    "    for i in range(len(plot_apdft_orders)):\n",
    "        ax.plot(\n",
    "            [x_apdft[i], x_apdft[i]], [alchemy_error_qc, apdft_error_qc[i]],\n",
    "            marker='', markersize=0, \n",
    "            linestyle='-', linewidth=lolli_line_width,\n",
    "            color=color\n",
    "        )\n",
    "        ax.plot(\n",
    "            x_apdft[i], apdft_error_qc[i],\n",
    "            marker='o', markersize=marker_size, markeredgewidth=lolli_line_width,\n",
    "            linestyle='', linewidth=0,\n",
    "            color=color, markerfacecolor='white'\n",
    "        )\n",
    "    \n",
    "    i_color += 1\n",
    "\n",
    "ax.set_ylabel('Error wrt QC (eV)')\n",
    "ax.set_ylim((-yaxis_max, yaxis_max))\n",
    "\n",
    "ax.legend()"
   ]
  },
  {
   "cell_type": "code",
   "execution_count": 4,
   "metadata": {},
   "outputs": [
    {
     "name": "stdout",
     "output_type": "stream",
     "text": [
      "Alchemical error wrt QC\n",
      "        n.h       b.h\n",
      "0 -0.160447  0.540402\n"
     ]
    },
    {
     "name": "stderr",
     "output_type": "stream",
     "text": [
      "/home/alex/.local/lib/python3.8/site-packages/apdft_tools/prediction.py:609: RankWarning: Polyfit may be poorly conditioned\n",
      "  bond_lengths_fit, poly_coeffs = fit_dimer_poly(\n",
      "/home/alex/.local/lib/python3.8/site-packages/apdft_tools/prediction.py:609: RankWarning: Polyfit may be poorly conditioned\n",
      "  bond_lengths_fit, poly_coeffs = fit_dimer_poly(\n",
      "/home/alex/.local/lib/python3.8/site-packages/numpy/core/shape_base.py:65: VisibleDeprecationWarning: Creating an ndarray from ragged nested sequences (which is a list-or-tuple of lists-or-tuples-or ndarrays with different lengths or shapes) is deprecated. If you meant to do this, you must specify 'dtype=object' when creating the ndarray.\n",
      "  ary = asanyarray(ary)\n"
     ]
    },
    {
     "data": {
      "text/plain": [
       "<matplotlib.legend.Legend at 0x7f6c2434b280>"
      ]
     },
     "execution_count": 4,
     "metadata": {},
     "output_type": "execute_result"
    },
    {
     "data": {
      "image/png": "[encoded data removed]",
      "text/plain": [
       "<Figure size 504x360 with 1 Axes>"
      ]
     },
     "metadata": {},
     "output_type": "display_data"
    }
   ],
   "source": [
    "system_label = 'c.h'\n",
    "system_charge = 1\n",
    "excitation_level = 0\n",
    "plot_apdft_orders = [0, 1, 2, 3, 4]\n",
    "considered_lambdas = [-1, 1]\n",
    "\n",
    "bl_eq_qc, e_eq_qc = dimer_eq(\n",
    "    df_qc, system_label, system_charge, excitation_level=excitation_level, calc_type='qc',\n",
    "    use_fin_diff=None, df_apdft=df_apdft, specific_atom=0,\n",
    "    direction=None, basis_set=basis_set, n_points=n_points, poly_order=poly_order,\n",
    "    remove_outliers=False, zscore_cutoff=3.0, considered_lambdas=considered_lambdas\n",
    ")\n",
    "\n",
    "bl_eq_pred_alchemy, e_eq_pred_alchemy = dimer_eq(\n",
    "    df_qc, system_label, system_charge, excitation_level=excitation_level, calc_type='alchemy',\n",
    "    use_fin_diff=False, df_apdft=df_apdft, specific_atom=0,\n",
    "    direction=None, basis_set=basis_set, n_points=n_points, poly_order=poly_order,\n",
    "    remove_outliers=False, zscore_cutoff=3.0, considered_lambdas=considered_lambdas\n",
    ")\n",
    "bl_eq_pred_apdft, e_eq_pred_apdft = dimer_eq(\n",
    "    df_qc, system_label, system_charge, excitation_level=excitation_level, calc_type='alchemy',\n",
    "    use_fin_diff=True, df_apdft=df_apdft, specific_atom=0,\n",
    "    direction=None, basis_set=basis_set, n_points=n_points, poly_order=poly_order,\n",
    "    remove_outliers=False, zscore_cutoff=3.0, considered_lambdas=considered_lambdas\n",
    ")\n",
    "\n",
    "atomic_numbers_target = system_to_atomic_numbers(system_label)\n",
    "atomic_numbers_refs = {key: system_to_atomic_numbers(key) for key in e_eq_pred_alchemy.keys()}\n",
    "lambda_values_refs = {\n",
    "    key: get_lambda_value(atomic_numbers_target, value, specific_atom=0) for key,value in atomic_numbers_refs.items()\n",
    "}\n",
    "\n",
    "e_ref = e_eq_qc[system_label]\n",
    "e_eq_pred_alchemy_error_qc = {key:hartree_to_ev(value-e_ref) for key,value in e_eq_pred_alchemy.items()}\n",
    "e_eq_pred_apdft_error_qc = {key:hartree_to_ev(value-e_ref) for key,value in e_eq_pred_apdft.items()}\n",
    "\n",
    "print('Alchemical error wrt QC')\n",
    "print(pd.DataFrame(e_eq_pred_alchemy_error_qc))\n",
    "\n",
    "###   FIGURE   ###\n",
    "lolli_line_width = 2\n",
    "yaxis_max = 3\n",
    "marker_size = 7\n",
    "edge_buffer = 0.15\n",
    "colors = ['#F94144', '#F8961E', '#43AA8B', '#577590']\n",
    "\n",
    "fig, ax = plt.subplots(1, 1, tight_layout=True)\n",
    "fig.patch.set_facecolor('white')\n",
    "\n",
    "ax.axhline(color='dimgrey', linestyle='-', alpha=0.3)\n",
    "ax.axvline(color='dimgrey', linestyle='--', alpha=0.3)\n",
    "\n",
    "\n",
    "i_color = 0\n",
    "sys_keys_sorted = list(e_eq_pred_apdft_error_qc.keys())\n",
    "sys_keys_sorted.sort()\n",
    "for key in sys_keys_sorted:\n",
    "    lambda_value = lambda_values_refs[key]\n",
    "    alchemy_error_qc = e_eq_pred_alchemy_error_qc[key]\n",
    "    apdft_error_qc = e_eq_pred_apdft_error_qc[key]\n",
    "    color = colors[i_color]\n",
    "    \n",
    "    # Alchemical error line\n",
    "    if lambda_value < 0:\n",
    "        x_alchemical = [lambda_value, lambda_value+1]\n",
    "    else:\n",
    "        x_alchemical = [lambda_value-1, lambda_value]\n",
    "    \n",
    "    ax.plot(\n",
    "        x_alchemical, [alchemy_error_qc, alchemy_error_qc],\n",
    "        marker='', color=color, label=key\n",
    "    )\n",
    "    \n",
    "    # APDFT error lollipop\n",
    "    x_apdft = np.linspace(x_alchemical[0] + edge_buffer, x_alchemical[1] - edge_buffer, num=len(plot_apdft_orders))\n",
    "    apdft_error_qc = apdft_error_qc[plot_apdft_orders]\n",
    "    \n",
    "    for i in range(len(plot_apdft_orders)):\n",
    "        ax.plot(\n",
    "            [x_apdft[i], x_apdft[i]], [alchemy_error_qc, apdft_error_qc[i]],\n",
    "            marker='', markersize=0, \n",
    "            linestyle='-', linewidth=lolli_line_width,\n",
    "            color=color\n",
    "        )\n",
    "        ax.plot(\n",
    "            x_apdft[i], apdft_error_qc[i],\n",
    "            marker='o', markersize=marker_size, markeredgewidth=lolli_line_width,\n",
    "            linestyle='', linewidth=0,\n",
    "            color=color, markerfacecolor='white'\n",
    "        )\n",
    "    \n",
    "    i_color += 1\n",
    "\n",
    "ax.set_ylabel('Error wrt QC (eV)')\n",
    "ax.set_ylim((-yaxis_max, yaxis_max))\n",
    "\n",
    "ax.legend()"
   ]
  },
  {
   "cell_type": "code",
   "execution_count": 5,
   "metadata": {},
   "outputs": [
    {
     "name": "stdout",
     "output_type": "stream",
     "text": [
      "PySCF prediction of IE for c.h: 10.625 eV\n",
      "\n",
      "Alchemical prediction errors in eV:\n",
      "              n.h      b.h\n",
      "Alchemy -0.023215 -0.00391\n"
     ]
    }
   ],
   "source": [
    "system_label = 'c.h'\n",
    "delta_charge = 1\n",
    "target_initial_charge = 0  # Initial charge of the system.\n",
    "basis_set = 'cc-pV5Z'\n",
    "lambda_specific_atom = 0\n",
    "change_signs = False  # Multiple all predictions by negative one (e.g., for electron affinities)\n",
    "\n",
    "\n",
    "use_fin_diff = False  # Use finite differences with Taylor series for APDFT predictions.\n",
    "remove_outliers = False\n",
    "\n",
    "ie_qc_prediction = get_qc_change_charge_dimer(\n",
    "    df_qc, system_label, delta_charge,\n",
    "    target_initial_charge=target_initial_charge,\n",
    "    change_signs=change_signs, basis_set=basis_set,\n",
    "    n_points=n_points, poly_order=poly_order, remove_outliers=remove_outliers\n",
    ")\n",
    "ie_apdft_predictions = get_apdft_change_charge_dimer(\n",
    "    df_qc, df_apdft, system_label, delta_charge,\n",
    "    target_initial_charge=target_initial_charge,\n",
    "    change_signs=change_signs, basis_set=basis_set,\n",
    "    use_fin_diff=use_fin_diff, lambda_specific_atom=lambda_specific_atom,\n",
    "    n_points=n_points, poly_order=poly_order, remove_outliers=remove_outliers\n",
    ")\n",
    "\n",
    "ie_qc_prediction = hartree_to_ev(ie_qc_prediction)\n",
    "ie_apdft_predictions = {key:hartree_to_ev(value) for key,value in ie_apdft_predictions.items()}\n",
    "ie_apdft_errors = {key:value-ie_qc_prediction for key,value in ie_apdft_predictions.items()}\n",
    "\n",
    "print(f'PySCF prediction of IE for {system_label}: {ie_qc_prediction:.3f} eV\\n')\n",
    "if use_fin_diff:\n",
    "    print(f'APDFTn prediction errors in eV:')\n",
    "    print(pd.DataFrame(ie_apdft_errors, index=[f'APDFT{n}' for n in range(5)]))\n",
    "else:\n",
    "    print(f'Alchemical prediction errors in eV:')\n",
    "    print(pd.DataFrame(ie_apdft_errors, index=[f'Alchemy']))"
   ]
  },
  {
   "cell_type": "markdown",
   "metadata": {},
   "source": [
    "$$\n",
    "\\Delta E = \\Delta E_{+1} - \\Delta E_{0}\n",
    "$$\n",
    "\n",
    "$$\n",
    "\\Delta E = \\Delta E_{+1} + error_{+1} - \\Delta E_{0} - error_{0}\n",
    "$$\n",
    "\n",
    "$$\n",
    "\\Delta E = (\\Delta E_{+1} - \\Delta E_{0}) + (error_{+1} - error_{0})\n",
    "$$"
   ]
  }
 ],
 "metadata": {
  "interpreter": {
   "hash": "e7370f93d1d0cde622a1f8e1c04877d8463912d04d973331ad4851f04de6915a"
  },
  "kernelspec": {
   "display_name": "Python 3 (ipykernel)",
   "language": "python",
   "name": "python3"
  },
  "language_info": {
   "codemirror_mode": {
    "name": "ipython",
    "version": 3
   },
   "file_extension": ".py",
   "mimetype": "text/x-python",
   "name": "python",
   "nbconvert_exporter": "python",
   "pygments_lexer": "ipython3",
   "version": "3.8.10"
  },
  "metadata": {
   "interpreter": {
    "hash": "1b40a011e729b217253a6703e3a50bab703685f13ebc69dadb4df728bd46068a"
   }
  }
 },
 "nbformat": 4,
 "nbformat_minor": 4
}
