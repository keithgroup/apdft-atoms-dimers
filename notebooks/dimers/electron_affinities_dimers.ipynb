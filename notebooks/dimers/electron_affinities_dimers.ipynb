{
 "cells": [
  {
   "cell_type": "markdown",
   "metadata": {},
   "source": [
    "# Electron affinities\n"
   ]
  },
  {
   "cell_type": "code",
   "execution_count": 1,
   "metadata": {},
   "outputs": [],
   "source": [
    "import numpy as np\n",
    "import pandas as pd\n",
    "\n",
    "from qa_tools.utils import *\n",
    "from qa_tools.data import prepare_dfs\n",
    "from qa_tools.prediction import *\n",
    "from qa_tools.analysis import *\n",
    "\n",
    "json_path = '../../json-data/dimer-pyscf.qa-data.posthf.json'\n",
    "df_qc, df_qats = prepare_dfs(json_path, get_CBS=False)"
   ]
  },
  {
   "cell_type": "markdown",
   "metadata": {},
   "source": [
    "## QA prediction errors\n",
    "\n",
    "There is some intrinsic error in modeling a target system (e.g., N atom) by changing the nuclear charge of a reference system's basis set (e.g., C<sup> &ndash;</sup> )."
   ]
  },
  {
   "cell_type": "code",
   "execution_count": 2,
   "metadata": {},
   "outputs": [],
   "source": [
    "system_label = 'o.h'\n",
    "delta_charge = -1\n",
    "target_initial_charge = 0  # Initial charge of the system.\n",
    "basis_set = 'cc-pV5Z'\n",
    "lambda_specific_atom = 0\n",
    "change_signs = True  # Multiple all predictions by negative one (e.g., for electron affinities)\n",
    "\n",
    "n_points = 2\n",
    "poly_order = 4"
   ]
  },
  {
   "cell_type": "code",
   "execution_count": 3,
   "metadata": {},
   "outputs": [
    {
     "name": "stdout",
     "output_type": "stream",
     "text": [
      "PySCF prediction of EA for o.h: 1.523 eV\n",
      "\n",
      "QA prediction errors in eV:\n",
      "        ne.h      f.h\n",
      "QA -0.549268 -0.23036\n"
     ]
    }
   ],
   "source": [
    "use_ts = False  \n",
    "remove_outliers = False\n",
    "\n",
    "ea_qc_prediction = energy_change_charge_qc_dimer(\n",
    "    df_qc, system_label, delta_charge,\n",
    "    target_initial_charge=target_initial_charge,\n",
    "    change_signs=change_signs, basis_set=basis_set,\n",
    "    n_points=n_points, poly_order=poly_order, remove_outliers=remove_outliers\n",
    ")\n",
    "ea_qats_predictions = energy_change_charge_qa_dimer(\n",
    "    df_qc, df_qats, system_label, delta_charge,\n",
    "    target_initial_charge=target_initial_charge,\n",
    "    change_signs=change_signs, basis_set=basis_set,\n",
    "    use_ts=use_ts, lambda_specific_atom=lambda_specific_atom,\n",
    "    n_points=n_points, poly_order=poly_order, remove_outliers=remove_outliers\n",
    ")\n",
    "\n",
    "ea_qc_prediction = hartree_to_ev(ea_qc_prediction)\n",
    "ea_qats_predictions = {key:hartree_to_ev(value) for (key,value) in ea_qats_predictions.items()}\n",
    "ea_qats_errors = {key:value-ea_qc_prediction for (key,value) in ea_qats_predictions.items()}\n",
    "\n",
    "print(f'PySCF prediction of EA for {system_label}: {ea_qc_prediction:.3f} eV\\n')\n",
    "print(f'QA prediction errors in eV:')\n",
    "print(pd.DataFrame(ea_qats_errors, index=[f'QA']))"
   ]
  },
  {
   "cell_type": "markdown",
   "metadata": {},
   "source": [
    "## QATS-*n* prediction errors\n",
    "\n",
    "Now, we can look at approximating the QA prediction by using a Taylor series centered on $\\Delta Z = 0$."
   ]
  },
  {
   "cell_type": "code",
   "execution_count": 4,
   "metadata": {},
   "outputs": [
    {
     "name": "stdout",
     "output_type": "stream",
     "text": [
      "PySCF prediction of EA for o.h: 1.523 eV\n",
      "\n",
      "QATS-n prediction errors in eV:\n",
      "             ne.h        f.h\n",
      "QATS-0  29.667766  14.568295\n",
      "QATS-1 -11.567414  -2.749806\n",
      "QATS-2   0.953872  -0.067438\n",
      "QATS-3   0.778176  -0.178758\n",
      "QATS-4  -1.915091 -12.184128\n"
     ]
    },
    {
     "name": "stderr",
     "output_type": "stream",
     "text": [
      "/home/alex/.local/lib/python3.9/site-packages/qa_tools/prediction.py:434: RankWarning: Polyfit may be poorly conditioned\n",
      "  bond_lengths_fit, poly_coeffs = fit_dimer_poly(\n",
      "/home/alex/.local/lib/python3.9/site-packages/qa_tools/prediction.py:434: RankWarning: Polyfit may be poorly conditioned\n",
      "  bond_lengths_fit, poly_coeffs = fit_dimer_poly(\n"
     ]
    }
   ],
   "source": [
    "use_ts = True  \n",
    "remove_outliers = False\n",
    "\n",
    "ea_qc_prediction = energy_change_charge_qc_dimer(\n",
    "    df_qc, system_label, delta_charge,\n",
    "    target_initial_charge=target_initial_charge,\n",
    "    change_signs=change_signs, basis_set=basis_set,\n",
    "    n_points=n_points, poly_order=poly_order, remove_outliers=remove_outliers\n",
    ")\n",
    "ea_qats_predictions = energy_change_charge_qa_dimer(\n",
    "    df_qc, df_qats, system_label, delta_charge,\n",
    "    target_initial_charge=target_initial_charge,\n",
    "    change_signs=change_signs, basis_set=basis_set,\n",
    "    use_ts=use_ts, lambda_specific_atom=lambda_specific_atom,\n",
    "    n_points=n_points, poly_order=poly_order, remove_outliers=remove_outliers\n",
    ")\n",
    "\n",
    "ea_qc_prediction = hartree_to_ev(ea_qc_prediction)\n",
    "ea_qats_predictions = {key:hartree_to_ev(value) for (key,value) in ea_qats_predictions.items()}\n",
    "ea_qats_errors = {key:value-ea_qc_prediction for (key,value) in ea_qats_predictions.items()}\n",
    "\n",
    "print(f'PySCF prediction of EA for {system_label}: {ea_qc_prediction:.3f} eV\\n')\n",
    "print(f'QATS-n prediction errors in eV:')\n",
    "print(pd.DataFrame(ea_qats_errors, index=[f'QATS-{n}' for n in range(5)]))"
   ]
  },
  {
   "cell_type": "markdown",
   "metadata": {},
   "source": [
    "### Specifying lambda values\n",
    "\n",
    "We can also specify specific lambda values to include. For example, we could only look at lambda values of +-1."
   ]
  },
  {
   "cell_type": "code",
   "execution_count": 5,
   "metadata": {},
   "outputs": [
    {
     "name": "stdout",
     "output_type": "stream",
     "text": [
      "PySCF prediction of EA for o.h: 1.523 eV\n",
      "\n",
      "QATS-n prediction errors in eV:\n",
      "              f.h\n",
      "QATS-0  14.568295\n",
      "QATS-1  -2.749806\n",
      "QATS-2  -0.067438\n",
      "QATS-3  -0.178758\n",
      "QATS-4 -12.184128\n"
     ]
    },
    {
     "name": "stderr",
     "output_type": "stream",
     "text": [
      "/home/alex/.local/lib/python3.9/site-packages/qa_tools/prediction.py:434: RankWarning: Polyfit may be poorly conditioned\n",
      "  bond_lengths_fit, poly_coeffs = fit_dimer_poly(\n"
     ]
    }
   ],
   "source": [
    "considered_lambdas = [-1]\n",
    "use_ts = True  \n",
    "remove_outliers = False\n",
    "\n",
    "ea_qc_prediction = energy_change_charge_qc_dimer(\n",
    "    df_qc, system_label, delta_charge,\n",
    "    target_initial_charge=target_initial_charge,\n",
    "    change_signs=change_signs, basis_set=basis_set,\n",
    "    n_points=n_points, poly_order=poly_order, remove_outliers=remove_outliers\n",
    ")\n",
    "ea_qats_predictions = energy_change_charge_qa_dimer(\n",
    "    df_qc, df_qats, system_label, delta_charge,\n",
    "    target_initial_charge=target_initial_charge,\n",
    "    change_signs=change_signs, basis_set=basis_set,\n",
    "    use_ts=use_ts, lambda_specific_atom=lambda_specific_atom,\n",
    "    n_points=n_points, poly_order=poly_order, remove_outliers=remove_outliers,\n",
    "    considered_lambdas=considered_lambdas\n",
    ")\n",
    "\n",
    "ea_qc_prediction = hartree_to_ev(ea_qc_prediction)\n",
    "ea_qats_predictions = {key:hartree_to_ev(value) for (key,value) in ea_qats_predictions.items()}\n",
    "ea_qats_errors = {key:value-ea_qc_prediction for (key,value) in ea_qats_predictions.items()}\n",
    "\n",
    "print(f'PySCF prediction of EA for {system_label}: {ea_qc_prediction:.3f} eV\\n')\n",
    "print(f'QATS-n prediction errors in eV:')\n",
    "print(pd.DataFrame(ea_qats_errors, index=[f'QATS-{n}' for n in range(5)]))"
   ]
  },
  {
   "cell_type": "markdown",
   "metadata": {},
   "source": [
    "## QATS-*n* errors with respect to QA\n",
    "\n",
    "Or you, can compute the difference between QATS-*n* (predictions with Taylor series) and QA."
   ]
  },
  {
   "cell_type": "code",
   "execution_count": 6,
   "metadata": {},
   "outputs": [
    {
     "name": "stdout",
     "output_type": "stream",
     "text": [
      "Differences between QATS-n and QA in eV:\n",
      "             ne.h        f.h\n",
      "QATS-0  30.217033  14.798655\n",
      "QATS-1 -11.018146  -2.519446\n",
      "QATS-2   1.503140   0.162922\n",
      "QATS-3   1.327444   0.051602\n",
      "QATS-4  -1.365824 -11.953768\n"
     ]
    },
    {
     "name": "stderr",
     "output_type": "stream",
     "text": [
      "/home/alex/.local/lib/python3.9/site-packages/qa_tools/prediction.py:434: RankWarning: Polyfit may be poorly conditioned\n",
      "  bond_lengths_fit, poly_coeffs = fit_dimer_poly(\n",
      "/home/alex/.local/lib/python3.9/site-packages/qa_tools/prediction.py:434: RankWarning: Polyfit may be poorly conditioned\n",
      "  bond_lengths_fit, poly_coeffs = fit_dimer_poly(\n"
     ]
    }
   ],
   "source": [
    "return_qats_vs_qa = True\n",
    "use_ts = True  \n",
    "remove_outliers = False\n",
    "\n",
    "ea_qats_predictions = energy_change_charge_qa_dimer(\n",
    "    df_qc, df_qats, system_label, delta_charge,\n",
    "    target_initial_charge=target_initial_charge,\n",
    "    change_signs=change_signs, basis_set=basis_set,\n",
    "    use_ts=use_ts, lambda_specific_atom=lambda_specific_atom,\n",
    "    n_points=n_points, poly_order=poly_order, remove_outliers=remove_outliers,\n",
    "    return_qats_vs_qa=return_qats_vs_qa\n",
    ")\n",
    "\n",
    "ea_qats_predictions = {key:hartree_to_ev(value) for (key,value) in ea_qats_predictions.items()}\n",
    "\n",
    "print(f'Differences between QATS-n and QA in eV:')\n",
    "print(pd.DataFrame(ea_qats_predictions, index=[f'QATS-{n}' for n in range(5)]))"
   ]
  },
  {
   "cell_type": "markdown",
   "metadata": {},
   "source": [
    "## Overall statistics\n",
    "\n",
    "We can also compute mean absolute errors (MAEs), root mean squared error (RMSE) and max error."
   ]
  },
  {
   "cell_type": "code",
   "execution_count": 7,
   "metadata": {},
   "outputs": [
    {
     "name": "stderr",
     "output_type": "stream",
     "text": [
      "/home/alex/.local/lib/python3.9/site-packages/qa_tools/prediction.py:434: RankWarning: Polyfit may be poorly conditioned\n",
      "  bond_lengths_fit, poly_coeffs = fit_dimer_poly(\n",
      "/home/alex/.local/lib/python3.9/site-packages/qa_tools/prediction.py:434: RankWarning: Polyfit may be poorly conditioned\n",
      "  bond_lengths_fit, poly_coeffs = fit_dimer_poly(\n",
      "/home/alex/.local/lib/python3.9/site-packages/qa_tools/prediction.py:434: RankWarning: Polyfit may be poorly conditioned\n",
      "  bond_lengths_fit, poly_coeffs = fit_dimer_poly(\n",
      "/home/alex/.local/lib/python3.9/site-packages/qa_tools/prediction.py:434: RankWarning: Polyfit may be poorly conditioned\n",
      "  bond_lengths_fit, poly_coeffs = fit_dimer_poly(\n",
      "/home/alex/.local/lib/python3.9/site-packages/qa_tools/prediction.py:434: RankWarning: Polyfit may be poorly conditioned\n",
      "  bond_lengths_fit, poly_coeffs = fit_dimer_poly(\n",
      "/home/alex/.local/lib/python3.9/site-packages/qa_tools/prediction.py:434: RankWarning: Polyfit may be poorly conditioned\n",
      "  bond_lengths_fit, poly_coeffs = fit_dimer_poly(\n",
      "/home/alex/.local/lib/python3.9/site-packages/qa_tools/prediction.py:434: RankWarning: Polyfit may be poorly conditioned\n",
      "  bond_lengths_fit, poly_coeffs = fit_dimer_poly(\n",
      "/home/alex/.local/lib/python3.9/site-packages/qa_tools/prediction.py:434: RankWarning: Polyfit may be poorly conditioned\n",
      "  bond_lengths_fit, poly_coeffs = fit_dimer_poly(\n",
      "/home/alex/.local/lib/python3.9/site-packages/qa_tools/prediction.py:434: RankWarning: Polyfit may be poorly conditioned\n",
      "  bond_lengths_fit, poly_coeffs = fit_dimer_poly(\n",
      "/home/alex/.local/lib/python3.9/site-packages/qa_tools/prediction.py:434: RankWarning: Polyfit may be poorly conditioned\n",
      "  bond_lengths_fit, poly_coeffs = fit_dimer_poly(\n",
      "/home/alex/.local/lib/python3.9/site-packages/qa_tools/prediction.py:434: RankWarning: Polyfit may be poorly conditioned\n",
      "  bond_lengths_fit, poly_coeffs = fit_dimer_poly(\n",
      "/home/alex/.local/lib/python3.9/site-packages/qa_tools/prediction.py:434: RankWarning: Polyfit may be poorly conditioned\n",
      "  bond_lengths_fit, poly_coeffs = fit_dimer_poly(\n",
      "/home/alex/.local/lib/python3.9/site-packages/qa_tools/prediction.py:434: RankWarning: Polyfit may be poorly conditioned\n",
      "  bond_lengths_fit, poly_coeffs = fit_dimer_poly(\n",
      "/home/alex/.local/lib/python3.9/site-packages/qa_tools/prediction.py:434: RankWarning: Polyfit may be poorly conditioned\n",
      "  bond_lengths_fit, poly_coeffs = fit_dimer_poly(\n",
      "/home/alex/.local/lib/python3.9/site-packages/qa_tools/prediction.py:434: RankWarning: Polyfit may be poorly conditioned\n",
      "  bond_lengths_fit, poly_coeffs = fit_dimer_poly(\n",
      "/home/alex/.local/lib/python3.9/site-packages/qa_tools/prediction.py:434: RankWarning: Polyfit may be poorly conditioned\n",
      "  bond_lengths_fit, poly_coeffs = fit_dimer_poly(\n",
      "/home/alex/.local/lib/python3.9/site-packages/qa_tools/prediction.py:434: RankWarning: Polyfit may be poorly conditioned\n",
      "  bond_lengths_fit, poly_coeffs = fit_dimer_poly(\n",
      "/home/alex/.local/lib/python3.9/site-packages/qa_tools/prediction.py:434: RankWarning: Polyfit may be poorly conditioned\n",
      "  bond_lengths_fit, poly_coeffs = fit_dimer_poly(\n",
      "/home/alex/.local/lib/python3.9/site-packages/qa_tools/prediction.py:434: RankWarning: Polyfit may be poorly conditioned\n",
      "  bond_lengths_fit, poly_coeffs = fit_dimer_poly(\n",
      "/home/alex/.local/lib/python3.9/site-packages/qa_tools/prediction.py:434: RankWarning: Polyfit may be poorly conditioned\n",
      "  bond_lengths_fit, poly_coeffs = fit_dimer_poly(\n",
      "/home/alex/.local/lib/python3.9/site-packages/qa_tools/prediction.py:434: RankWarning: Polyfit may be poorly conditioned\n",
      "  bond_lengths_fit, poly_coeffs = fit_dimer_poly(\n",
      "/home/alex/.local/lib/python3.9/site-packages/qa_tools/prediction.py:434: RankWarning: Polyfit may be poorly conditioned\n",
      "  bond_lengths_fit, poly_coeffs = fit_dimer_poly(\n"
     ]
    },
    {
     "name": "stdout",
     "output_type": "stream",
     "text": [
      "QATS-0 MAE: 18.770 eV\n",
      "QATS-1 MAE: 6.710 eV\n",
      "QATS-2 MAE: 1.244 eV\n",
      "QATS-3 MAE: 5.974 eV\n",
      "QATS-4 MAE: 22.025 eV\n",
      "\n",
      "QATS-0 RMSE: 20.350 eV\n",
      "QATS-1 RMSE: 7.840 eV\n",
      "QATS-2 RMSE: 1.943 eV\n",
      "QATS-3 RMSE: 9.249 eV\n",
      "QATS-4 RMSE: 49.371 eV\n",
      "\n",
      "QATS-0 max abs.: 29.668 eV\n",
      "QATS-1 max abs.: 11.567 eV\n",
      "QATS-2 max abs.: 4.621 eV\n",
      "QATS-3 max abs.: 18.047 eV\n",
      "QATS-4 max abs.: 159.445 eV\n"
     ]
    },
    {
     "name": "stderr",
     "output_type": "stream",
     "text": [
      "/home/alex/.local/lib/python3.9/site-packages/qa_tools/prediction.py:434: RankWarning: Polyfit may be poorly conditioned\n",
      "  bond_lengths_fit, poly_coeffs = fit_dimer_poly(\n",
      "/home/alex/.local/lib/python3.9/site-packages/qa_tools/prediction.py:434: RankWarning: Polyfit may be poorly conditioned\n",
      "  bond_lengths_fit, poly_coeffs = fit_dimer_poly(\n"
     ]
    }
   ],
   "source": [
    "all_systems = all_dimer_systems[0:-2]\n",
    "target_initial_charge = 0\n",
    "\n",
    "considered_lambdas = None\n",
    "return_qats_vs_qa = False\n",
    "use_ts = True  \n",
    "remove_outliers = False\n",
    "max_qats_order = 4\n",
    "\n",
    "for i in range(len(all_systems)):\n",
    "    sys_error = error_change_charge_qats_dimer(\n",
    "        df_qc, df_qats, all_systems[i], delta_charge,\n",
    "        target_initial_charge=target_initial_charge,\n",
    "        change_signs=change_signs, basis_set=basis_set,\n",
    "        use_ts=use_ts, lambda_specific_atom=lambda_specific_atom,\n",
    "        n_points=n_points, poly_order=poly_order, remove_outliers=remove_outliers,\n",
    "        return_qats_vs_qa=return_qats_vs_qa, considered_lambdas=considered_lambdas\n",
    "    )\n",
    "    if i == 0:\n",
    "        all_error = sys_error\n",
    "    else:\n",
    "        all_error = pd.concat(\n",
    "            [all_error, sys_error], axis=1\n",
    "        )\n",
    "\n",
    "if use_ts or return_qats_vs_qa == True:\n",
    "    # MAE\n",
    "    for n in range(0, max_qats_order+1):\n",
    "        qatsn_errors = all_error.iloc[n].values\n",
    "        qatsn_mae = np.mean(np.abs(qatsn_errors))\n",
    "        print(f'QATS-{n} MAE: {qatsn_mae:.3f} eV')\n",
    "\n",
    "    # RMSE\n",
    "    print()\n",
    "    for n in range(0, max_qats_order+1):\n",
    "        qatsn_errors = all_error.iloc[n].values\n",
    "        qatsn_rmse = np.sqrt(np.mean((qatsn_errors)**2))\n",
    "        print(f'QATS-{n} RMSE: {qatsn_rmse:.3f} eV')\n",
    "    \n",
    "    # Max\n",
    "    print()\n",
    "    for n in range(0, max_qats_order+1):\n",
    "        qatsn_errors = all_error.iloc[n].values\n",
    "        qatsn_max = np.max(np.abs(qatsn_errors))\n",
    "        print(f'QATS-{n} max abs.: {qatsn_max:.3f} eV')\n",
    "else:\n",
    "    # MAE\n",
    "    qatsn_errors = all_error.iloc[0].values\n",
    "    qatsn_mae = np.mean(np.abs(qatsn_errors))\n",
    "    print(f'QA MAE: {qatsn_mae:.3f} eV')\n",
    "\n",
    "    # RMSE\n",
    "    print()\n",
    "    qatsn_rmse = np.sqrt(np.mean((qatsn_errors)**2))\n",
    "    print(f'QA RMSE: {qatsn_rmse:.3f} eV')\n",
    "\n",
    "    # Max\n",
    "    print()\n",
    "    qatsn_max = np.max(np.abs(qatsn_errors))\n",
    "    print(f'QA max abs.: {qatsn_max:.3f} eV')\n"
   ]
  }
 ],
 "metadata": {
  "interpreter": {
   "hash": "e7370f93d1d0cde622a1f8e1c04877d8463912d04d973331ad4851f04de6915a"
  },
  "kernelspec": {
   "display_name": "Python 3 (ipykernel)",
   "language": "python",
   "name": "python3"
  },
  "language_info": {
   "codemirror_mode": {
    "name": "ipython",
    "version": 3
   },
   "file_extension": ".py",
   "mimetype": "text/x-python",
   "name": "python",
   "nbconvert_exporter": "python",
   "pygments_lexer": "ipython3",
   "version": "3.9.7"
  },
  "metadata": {
   "interpreter": {
    "hash": "1b40a011e729b217253a6703e3a50bab703685f13ebc69dadb4df728bd46068a"
   }
  }
 },
 "nbformat": 4,
 "nbformat_minor": 2
}
