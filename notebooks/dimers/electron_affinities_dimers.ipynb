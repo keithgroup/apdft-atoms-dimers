{
 "cells": [
  {
   "cell_type": "markdown",
   "metadata": {},
   "source": [
    "# APDFT Analysis\n",
    "\n",
    "Predictions can use\n",
    "\n",
    "- **QC**: HF, CCSD, or CCSD(T) energy differences with the species of interests or target,\n",
    "- **APDFT**: HF, CCSD, or CCSD(T) energy differences by changing the nuclear charge of other systems that have the same number of electrons as the target,\n",
    "- **APDFT*n***: Taylor series approximation with order *n* of the APDFT potential energy surface."
   ]
  },
  {
   "cell_type": "code",
   "execution_count": 1,
   "metadata": {},
   "outputs": [],
   "source": [
    "import numpy as np\n",
    "import pandas as pd\n",
    "\n",
    "from apdft_tools.utils import hartree_to_ev, all_dimer_systems\n",
    "from apdft_tools.data import prepare_dfs\n",
    "from apdft_tools.prediction import get_qc_change_charge_dimer, get_apdft_change_charge_dimer\n",
    "from apdft_tools.analysis import apdft_error_change_charge_dimer\n",
    "\n",
    "json_path = '../../json-data/dimer-pyscf.apdft-data.posthf.json'\n",
    "df_qc, df_apdft = prepare_dfs(json_path, get_CBS=False)"
   ]
  },
  {
   "cell_type": "markdown",
   "metadata": {},
   "source": [
    "## APDFT prediction errors\n",
    "\n",
    "There is some intrinsic error in modeling a target system (e.g., N atom) by changing the nuclear charge of a reference system's basis set (e.g., C<sup> &ndash;</sup> ).\n",
    "The following cell computes this error, and represents the best performance for APDFT without fortuitous errors."
   ]
  },
  {
   "cell_type": "code",
   "execution_count": 2,
   "metadata": {},
   "outputs": [],
   "source": [
    "system_label = 'o.h'\n",
    "delta_charge = -1\n",
    "target_initial_charge = 0  # Initial charge of the system.\n",
    "basis_set = 'cc-pV5Z'\n",
    "lambda_specific_atom = 0\n",
    "change_signs = True  # Multiple all predictions by negative one (e.g., for electron affinities)\n",
    "\n",
    "n_points = 2\n",
    "poly_order = 4"
   ]
  },
  {
   "cell_type": "code",
   "execution_count": 3,
   "metadata": {},
   "outputs": [
    {
     "name": "stdout",
     "output_type": "stream",
     "text": [
      "PySCF prediction of EA for o.h: 1.523 eV\n",
      "\n",
      "APDFT prediction errors in eV:\n",
      "           f.h      ne.h\n",
      "APDFT -0.23036 -0.549268\n"
     ]
    }
   ],
   "source": [
    "use_fin_diff = False  # Use finite differences with Taylor series for APDFT predictions.\n",
    "remove_outliers = False\n",
    "\n",
    "ea_qc_prediction = get_qc_change_charge_dimer(\n",
    "    df_qc, system_label, delta_charge,\n",
    "    target_initial_charge=target_initial_charge,\n",
    "    change_signs=change_signs, basis_set=basis_set,\n",
    "    n_points=n_points, poly_order=poly_order, remove_outliers=remove_outliers\n",
    ")\n",
    "ea_apdft_predictions = get_apdft_change_charge_dimer(\n",
    "    df_qc, df_apdft, system_label, delta_charge,\n",
    "    target_initial_charge=target_initial_charge,\n",
    "    change_signs=change_signs, basis_set=basis_set,\n",
    "    use_fin_diff=use_fin_diff, lambda_specific_atom=lambda_specific_atom,\n",
    "    n_points=n_points, poly_order=poly_order, remove_outliers=remove_outliers\n",
    ")\n",
    "\n",
    "ea_qc_prediction = hartree_to_ev(ea_qc_prediction)\n",
    "ea_apdft_predictions = {key:hartree_to_ev(value) for (key,value) in ea_apdft_predictions.items()}\n",
    "ea_apdft_errors = {key:value-ea_qc_prediction for (key,value) in ea_apdft_predictions.items()}\n",
    "\n",
    "print(f'PySCF prediction of EA for {system_label}: {ea_qc_prediction:.3f} eV\\n')\n",
    "print(f'APDFT prediction errors in eV:')\n",
    "print(pd.DataFrame(ea_apdft_errors, index=[f'APDFT']))"
   ]
  },
  {
   "cell_type": "markdown",
   "metadata": {},
   "source": [
    "## APDFT*n* prediction errors\n",
    "\n",
    "Now, we can look at approximating the APDFT prediction by using a Taylor series centered on $\\Delta Z = 0$."
   ]
  },
  {
   "cell_type": "code",
   "execution_count": 4,
   "metadata": {},
   "outputs": [
    {
     "name": "stdout",
     "output_type": "stream",
     "text": [
      "PySCF prediction of EA for o.h: 1.523 eV\n",
      "\n",
      "APDFTn prediction errors in eV:\n",
      "              f.h       ne.h\n",
      "APDFT0  14.568295  29.667766\n",
      "APDFT1  -2.749806 -11.567414\n",
      "APDFT2  -0.067438   0.953872\n",
      "APDFT3  -0.178758   0.778176\n",
      "APDFT4 -12.184128  -1.915091\n"
     ]
    },
    {
     "name": "stderr",
     "output_type": "stream",
     "text": [
      "/home/alex/.local/lib/python3.8/site-packages/apdft_tools/prediction.py:631: RankWarning: Polyfit may be poorly conditioned\n",
      "  bond_lengths_fit, poly_coeffs = fit_dimer_poly(\n",
      "/home/alex/.local/lib/python3.8/site-packages/apdft_tools/prediction.py:631: RankWarning: Polyfit may be poorly conditioned\n",
      "  bond_lengths_fit, poly_coeffs = fit_dimer_poly(\n"
     ]
    }
   ],
   "source": [
    "use_fin_diff = True  # Use finite differences with Taylor series for APDFT predictions.\n",
    "remove_outliers = False\n",
    "\n",
    "ea_qc_prediction = get_qc_change_charge_dimer(\n",
    "    df_qc, system_label, delta_charge,\n",
    "    target_initial_charge=target_initial_charge,\n",
    "    change_signs=change_signs, basis_set=basis_set,\n",
    "    n_points=n_points, poly_order=poly_order, remove_outliers=remove_outliers\n",
    ")\n",
    "ea_apdft_predictions = get_apdft_change_charge_dimer(\n",
    "    df_qc, df_apdft, system_label, delta_charge,\n",
    "    target_initial_charge=target_initial_charge,\n",
    "    change_signs=change_signs, basis_set=basis_set,\n",
    "    use_fin_diff=use_fin_diff, lambda_specific_atom=lambda_specific_atom,\n",
    "    n_points=n_points, poly_order=poly_order, remove_outliers=remove_outliers\n",
    ")\n",
    "\n",
    "ea_qc_prediction = hartree_to_ev(ea_qc_prediction)\n",
    "ea_apdft_predictions = {key:hartree_to_ev(value) for (key,value) in ea_apdft_predictions.items()}\n",
    "ea_apdft_errors = {key:value-ea_qc_prediction for (key,value) in ea_apdft_predictions.items()}\n",
    "\n",
    "print(f'PySCF prediction of EA for {system_label}: {ea_qc_prediction:.3f} eV\\n')\n",
    "print(f'APDFTn prediction errors in eV:')\n",
    "print(pd.DataFrame(ea_apdft_errors, index=[f'APDFT{n}' for n in range(5)]))"
   ]
  },
  {
   "cell_type": "markdown",
   "metadata": {},
   "source": [
    "### Specifying lambda values\n",
    "\n",
    "We can also specify specific lambda values to include. For example, we could only look at lambda values of +-1."
   ]
  },
  {
   "cell_type": "code",
   "execution_count": 5,
   "metadata": {},
   "outputs": [
    {
     "name": "stdout",
     "output_type": "stream",
     "text": [
      "PySCF prediction of EA for o.h: 1.523 eV\n",
      "\n",
      "APDFTn prediction errors in eV:\n",
      "              f.h\n",
      "APDFT0  14.568295\n",
      "APDFT1  -2.749806\n",
      "APDFT2  -0.067438\n",
      "APDFT3  -0.178758\n",
      "APDFT4 -12.184128\n"
     ]
    },
    {
     "name": "stderr",
     "output_type": "stream",
     "text": [
      "/home/alex/.local/lib/python3.8/site-packages/apdft_tools/prediction.py:631: RankWarning: Polyfit may be poorly conditioned\n",
      "  bond_lengths_fit, poly_coeffs = fit_dimer_poly(\n"
     ]
    }
   ],
   "source": [
    "considered_lambdas = [-1]\n",
    "use_fin_diff = True  # Use finite differences with Taylor series for APDFT predictions.\n",
    "remove_outliers = False\n",
    "\n",
    "ea_qc_prediction = get_qc_change_charge_dimer(\n",
    "    df_qc, system_label, delta_charge,\n",
    "    target_initial_charge=target_initial_charge,\n",
    "    change_signs=change_signs, basis_set=basis_set,\n",
    "    n_points=n_points, poly_order=poly_order, remove_outliers=remove_outliers\n",
    ")\n",
    "ea_apdft_predictions = get_apdft_change_charge_dimer(\n",
    "    df_qc, df_apdft, system_label, delta_charge,\n",
    "    target_initial_charge=target_initial_charge,\n",
    "    change_signs=change_signs, basis_set=basis_set,\n",
    "    use_fin_diff=use_fin_diff, lambda_specific_atom=lambda_specific_atom,\n",
    "    n_points=n_points, poly_order=poly_order, remove_outliers=remove_outliers,\n",
    "    considered_lambdas=considered_lambdas\n",
    ")\n",
    "\n",
    "ea_qc_prediction = hartree_to_ev(ea_qc_prediction)\n",
    "ea_apdft_predictions = {key:hartree_to_ev(value) for (key,value) in ea_apdft_predictions.items()}\n",
    "ea_apdft_errors = {key:value-ea_qc_prediction for (key,value) in ea_apdft_predictions.items()}\n",
    "\n",
    "print(f'PySCF prediction of EA for {system_label}: {ea_qc_prediction:.3f} eV\\n')\n",
    "print(f'APDFTn prediction errors in eV:')\n",
    "print(pd.DataFrame(ea_apdft_errors, index=[f'APDFT{n}' for n in range(5)]))"
   ]
  },
  {
   "cell_type": "markdown",
   "metadata": {},
   "source": [
    "## APDFT*n* errors with respect to APDFT\n",
    "\n",
    "Or you, can compute the difference between APDFT*n* (predictions with Taylor series) and APDFT."
   ]
  },
  {
   "cell_type": "code",
   "execution_count": 6,
   "metadata": {},
   "outputs": [
    {
     "name": "stdout",
     "output_type": "stream",
     "text": [
      "Differences between APDFTn and APDFT in eV:\n",
      "              f.h       ne.h\n",
      "APDFT0  14.798655  30.217033\n",
      "APDFT1  -2.519446 -11.018146\n",
      "APDFT2   0.162922   1.503140\n",
      "APDFT3   0.051602   1.327444\n",
      "APDFT4 -11.953768  -1.365824\n"
     ]
    },
    {
     "name": "stderr",
     "output_type": "stream",
     "text": [
      "/home/alex/.local/lib/python3.8/site-packages/apdft_tools/prediction.py:631: RankWarning: Polyfit may be poorly conditioned\n",
      "  bond_lengths_fit, poly_coeffs = fit_dimer_poly(\n",
      "/home/alex/.local/lib/python3.8/site-packages/apdft_tools/prediction.py:631: RankWarning: Polyfit may be poorly conditioned\n",
      "  bond_lengths_fit, poly_coeffs = fit_dimer_poly(\n"
     ]
    }
   ],
   "source": [
    "compute_difference = True\n",
    "use_fin_diff = True  # Use finite differences with Taylor series for APDFT predictions.\n",
    "remove_outliers = False\n",
    "\n",
    "ea_apdft_predictions = get_apdft_change_charge_dimer(\n",
    "    df_qc, df_apdft, system_label, delta_charge,\n",
    "    target_initial_charge=target_initial_charge,\n",
    "    change_signs=change_signs, basis_set=basis_set,\n",
    "    use_fin_diff=use_fin_diff, lambda_specific_atom=lambda_specific_atom,\n",
    "    n_points=n_points, poly_order=poly_order, remove_outliers=remove_outliers,\n",
    "    compute_difference=compute_difference\n",
    ")\n",
    "\n",
    "ea_apdft_predictions = {key:hartree_to_ev(value) for (key,value) in ea_apdft_predictions.items()}\n",
    "\n",
    "print(f'Differences between APDFTn and APDFT in eV:')\n",
    "print(pd.DataFrame(ea_apdft_predictions, index=[f'APDFT{n}' for n in range(5)]))"
   ]
  },
  {
   "cell_type": "markdown",
   "metadata": {},
   "source": [
    "## Overall statistics\n",
    "\n",
    "We can also compute mean absolute errors (MAEs), root mean squared error (RMSE) and max error."
   ]
  },
  {
   "cell_type": "code",
   "execution_count": 7,
   "metadata": {},
   "outputs": [
    {
     "name": "stdout",
     "output_type": "stream",
     "text": [
      "APDFT MAE: 0.4038 eV\n",
      "\n",
      "APDFT RMSE: 0.4431 eV\n",
      "\n",
      "APDFT max abs.: 0.6978 eV\n"
     ]
    }
   ],
   "source": [
    "all_systems = all_dimer_systems[0:-2]\n",
    "target_initial_charge = 0\n",
    "\n",
    "considered_lambdas = None\n",
    "compute_difference = False\n",
    "use_fin_diff = False  # Use finite differences with Taylor series for APDFT predictions.\n",
    "remove_outliers = False\n",
    "max_apdft_order = 4\n",
    "\n",
    "for i in range(len(all_systems)):\n",
    "    sys_error = apdft_error_change_charge_dimer(\n",
    "        df_qc, df_apdft, all_systems[i], delta_charge,\n",
    "        target_initial_charge=target_initial_charge,\n",
    "        change_signs=change_signs, basis_set=basis_set,\n",
    "        use_fin_diff=use_fin_diff, lambda_specific_atom=lambda_specific_atom,\n",
    "        n_points=n_points, poly_order=poly_order, remove_outliers=remove_outliers,\n",
    "        compute_difference=compute_difference, considered_lambdas=considered_lambdas\n",
    "    )\n",
    "    if i == 0:\n",
    "        all_error = sys_error\n",
    "    else:\n",
    "        all_error = pd.concat(\n",
    "            [all_error, sys_error], axis=1\n",
    "        )\n",
    "\n",
    "if use_fin_diff or compute_difference == True:\n",
    "    # MAE\n",
    "    for n in range(0, max_apdft_order+1):\n",
    "        apdftn_errors = all_error.iloc[n].values\n",
    "        apdftn_mae = np.mean(np.abs(apdftn_errors))\n",
    "        print(f'APDFT{n} MAE: {apdftn_mae:.4f} eV')\n",
    "\n",
    "    # RMSE\n",
    "    print()\n",
    "    for n in range(0, max_apdft_order+1):\n",
    "        apdftn_errors = all_error.iloc[n].values\n",
    "        apdftn_rmse = np.sqrt(np.mean((apdftn_errors)**2))\n",
    "        print(f'APDFT{n} RMSE: {apdftn_rmse:.4f} eV')\n",
    "    \n",
    "    # Max\n",
    "    print()\n",
    "    for n in range(0, max_apdft_order+1):\n",
    "        apdftn_errors = all_error.iloc[n].values\n",
    "        apdftn_max = np.max(np.abs(apdftn_errors))\n",
    "        print(f'APDFT{n} max abs.: {apdftn_max:.4f} eV')\n",
    "else:\n",
    "    # MAE\n",
    "    apdftn_errors = all_error.iloc[0].values\n",
    "    apdftn_mae = np.mean(np.abs(apdftn_errors))\n",
    "    print(f'APDFT MAE: {apdftn_mae:.4f} eV')\n",
    "\n",
    "    # RMSE\n",
    "    print()\n",
    "    apdftn_rmse = np.sqrt(np.mean((apdftn_errors)**2))\n",
    "    print(f'APDFT RMSE: {apdftn_rmse:.4f} eV')\n",
    "\n",
    "    # Max\n",
    "    print()\n",
    "    apdftn_max = np.max(np.abs(apdftn_errors))\n",
    "    print(f'APDFT max abs.: {apdftn_max:.4f} eV')\n"
   ]
  }
 ],
 "metadata": {
  "interpreter": {
   "hash": "e7370f93d1d0cde622a1f8e1c04877d8463912d04d973331ad4851f04de6915a"
  },
  "kernelspec": {
   "display_name": "Python 3 (ipykernel)",
   "language": "python",
   "name": "python3"
  },
  "language_info": {
   "codemirror_mode": {
    "name": "ipython",
    "version": 3
   },
   "file_extension": ".py",
   "mimetype": "text/x-python",
   "name": "python",
   "nbconvert_exporter": "python",
   "pygments_lexer": "ipython3",
   "version": "3.8.10"
  },
  "metadata": {
   "interpreter": {
    "hash": "1b40a011e729b217253a6703e3a50bab703685f13ebc69dadb4df728bd46068a"
   }
  }
 },
 "nbformat": 4,
 "nbformat_minor": 2
}
