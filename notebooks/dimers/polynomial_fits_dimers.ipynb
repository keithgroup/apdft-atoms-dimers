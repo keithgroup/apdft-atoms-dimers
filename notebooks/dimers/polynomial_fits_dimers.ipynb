{
 "cells": [
  {
   "cell_type": "markdown",
   "metadata": {},
   "source": [
    "# APDFT Analysis\n",
    "\n"
   ]
  },
  {
   "cell_type": "code",
   "execution_count": 1,
   "metadata": {},
   "outputs": [],
   "source": [
    "import numpy as np\n",
    "import pandas as pd\n",
    "import matplotlib.pyplot as plt\n",
    "\n",
    "from apdft_tools.utils import hartree_to_ev, get_multiplicity, _remove_dimer_outliers, _dimer_poly_pred, find_poly_min, add_energies_to_df_apdft\n",
    "from apdft_tools.data import prepare_dfs\n",
    "from apdft_tools.prediction import get_dimer_curve, get_apdft_refs\n",
    "\n",
    "json_path = '/home/alex/Dropbox/keith/projects/apdft/apdft_tools/json-data/dimer-pyscf.apdft-data.posthf.json'\n",
    "df_qc, df_apdft = prepare_dfs(json_path, get_CBS=False)"
   ]
  },
  {
   "cell_type": "markdown",
   "metadata": {},
   "source": [
    "## Plotting bond lengths"
   ]
  },
  {
   "cell_type": "code",
   "execution_count": 2,
   "metadata": {},
   "outputs": [],
   "source": [
    "system_label = 'be.h'\n",
    "charge = 0  # Initial charge of the system.\n",
    "excitation_level = 0\n",
    "lambda_value = 1\n",
    "\n",
    "basis_set = 'cc-pV5Z'\n",
    "lambda_specific_atom = 0\n",
    "n_points = 2\n",
    "poly_order = 4\n",
    "use_fin_diff = True\n",
    "\n",
    "qm_color = '#577590'\n",
    "apdft_color = '#F3722C'"
   ]
  },
  {
   "cell_type": "code",
   "execution_count": 3,
   "metadata": {},
   "outputs": [
    {
     "name": "stdout",
     "output_type": "stream",
     "text": [
      "      system atomic_numbers  charge  multiplicity  n_electrons qc_method  \\\n",
      "0       li.h         [3, 1]       0             3            4  UCCSD(T)   \n",
      "1       li.h         [3, 1]       0             3            4  UCCSD(T)   \n",
      "2       li.h         [3, 1]       0             3            4  UCCSD(T)   \n",
      "3       li.h         [3, 1]       0             3            4  UCCSD(T)   \n",
      "4       li.h         [3, 1]       0             3            4  UCCSD(T)   \n",
      "...      ...            ...     ...           ...          ...       ...   \n",
      "11699    f.h         [9, 1]       1             4            9  UCCSD(T)   \n",
      "11700    f.h         [9, 1]       1             4            9  UCCSD(T)   \n",
      "11701    f.h         [9, 1]       1             4            9  UCCSD(T)   \n",
      "11702    f.h         [9, 1]       1             4            9  UCCSD(T)   \n",
      "11703    f.h         [9, 1]       1             4            9  UCCSD(T)   \n",
      "\n",
      "      basis_set lambda_range  finite_diff_delta  finite_diff_acc  \\\n",
      "0       cc-pV5Z       (0, 2)               0.01                2   \n",
      "1       cc-pV5Z       (0, 2)               0.01                2   \n",
      "2       cc-pV5Z       (0, 2)               0.01                2   \n",
      "3       cc-pV5Z       (0, 2)               0.01                2   \n",
      "4       cc-pV5Z       (0, 2)               0.01                2   \n",
      "...         ...          ...                ...              ...   \n",
      "11699   cc-pV5Z      (-2, 1)               0.01                2   \n",
      "11700   cc-pV5Z      (-2, 1)               0.01                2   \n",
      "11701   cc-pV5Z      (-2, 1)               0.01                2   \n",
      "11702   cc-pV5Z      (-2, 1)               0.01                2   \n",
      "11703   cc-pV5Z      (-2, 1)               0.01                2   \n",
      "\n",
      "                                              poly_coeff  bond_length  \\\n",
      "0      [-7.615835404293109, -5.572760513054664, -1.17...          0.7   \n",
      "1      [-7.615835404293109, -5.572760513054664, -1.17...          0.7   \n",
      "2      [-7.615835404293109, -5.572760513054664, -1.17...          0.7   \n",
      "3      [-7.615835404293109, -5.572760513054664, -1.17...          0.7   \n",
      "4      [-7.615835404293109, -5.572760513054664, -1.17...          0.7   \n",
      "...                                                  ...          ...   \n",
      "11699  [-99.32015975955971, -25.686283733746507, -1.7...          1.0   \n",
      "11700  [-99.32015975955971, -25.686283733746507, -1.7...          1.0   \n",
      "11701  [-99.32015975955971, -25.686283733746507, -1.7...          1.0   \n",
      "11702  [-99.32015975955971, -25.686283733746507, -1.7...          1.0   \n",
      "11703  [-99.32015975955971, -25.686283733746507, -1.7...          1.0   \n",
      "\n",
      "       electronic_energy  \n",
      "0              -7.504850  \n",
      "1              -7.560225  \n",
      "2              -7.615835  \n",
      "3              -7.671680  \n",
      "4              -7.727760  \n",
      "...                  ...  \n",
      "11699         -99.834603  \n",
      "11700        -105.853767  \n",
      "11701        -112.610874  \n",
      "11702        -119.590585  \n",
      "11703        -126.791927  \n",
      "\n",
      "[11704 rows x 13 columns]\n"
     ]
    },
    {
     "ename": "AssertionError",
     "evalue": "",
     "output_type": "error",
     "traceback": [
      "\u001b[0;31m---------------------------------------------------------------------------\u001b[0m",
      "\u001b[0;31mAssertionError\u001b[0m                            Traceback (most recent call last)",
      "\u001b[0;32m/tmp/ipykernel_14311/2401310076.py\u001b[0m in \u001b[0;36m<module>\u001b[0;34m\u001b[0m\n\u001b[1;32m     16\u001b[0m     )\n\u001b[1;32m     17\u001b[0m     \u001b[0mprint\u001b[0m\u001b[0;34m(\u001b[0m\u001b[0mdf_apdft_system\u001b[0m\u001b[0;34m)\u001b[0m\u001b[0;34m\u001b[0m\u001b[0;34m\u001b[0m\u001b[0m\n\u001b[0;32m---> 18\u001b[0;31m     \u001b[0mmultiplicity\u001b[0m \u001b[0;34m=\u001b[0m \u001b[0mget_multiplicity\u001b[0m\u001b[0;34m(\u001b[0m\u001b[0mdf_apdft_system\u001b[0m\u001b[0;34m,\u001b[0m \u001b[0mexcitation_level\u001b[0m\u001b[0;34m)\u001b[0m\u001b[0;34m\u001b[0m\u001b[0;34m\u001b[0m\u001b[0m\n\u001b[0m\u001b[1;32m     19\u001b[0m     \u001b[0mdf_apdft_system\u001b[0m \u001b[0;34m=\u001b[0m \u001b[0mdf_apdft_system\u001b[0m\u001b[0;34m.\u001b[0m\u001b[0mquery\u001b[0m\u001b[0;34m(\u001b[0m\u001b[0;34m'multiplicity == @multiplicity'\u001b[0m\u001b[0;34m)\u001b[0m\u001b[0;34m\u001b[0m\u001b[0;34m\u001b[0m\u001b[0m\n\u001b[1;32m     20\u001b[0m     bond_lengths_fin_diff, energies_fin_diff = get_dimer_curve(\n",
      "\u001b[0;32m~/.local/lib/python3.8/site-packages/apdft_tools/utils.py\u001b[0m in \u001b[0;36mget_multiplicity\u001b[0;34m(df, excitation_level, ignore_one_row)\u001b[0m\n\u001b[1;32m    333\u001b[0m         \u001b[0mdf_selection\u001b[0m \u001b[0;34m=\u001b[0m \u001b[0mdf\u001b[0m\u001b[0;34m.\u001b[0m\u001b[0mquery\u001b[0m\u001b[0;34m(\u001b[0m\u001b[0;34m'lambda_value == @lambda_selection'\u001b[0m\u001b[0;34m)\u001b[0m\u001b[0;34m\u001b[0m\u001b[0;34m\u001b[0m\u001b[0m\n\u001b[1;32m    334\u001b[0m \u001b[0;34m\u001b[0m\u001b[0m\n\u001b[0;32m--> 335\u001b[0;31m     \u001b[0;32massert\u001b[0m \u001b[0mlen\u001b[0m\u001b[0;34m(\u001b[0m\u001b[0mdf_selection\u001b[0m\u001b[0;34m)\u001b[0m \u001b[0;34m==\u001b[0m \u001b[0;36m2\u001b[0m\u001b[0;34m\u001b[0m\u001b[0;34m\u001b[0m\u001b[0m\n\u001b[0m\u001b[1;32m    336\u001b[0m     df_mult = select_state(\n\u001b[1;32m    337\u001b[0m         \u001b[0mdf_selection\u001b[0m\u001b[0;34m,\u001b[0m \u001b[0mexcitation_level\u001b[0m\u001b[0;34m,\u001b[0m \u001b[0mignore_one_row\u001b[0m\u001b[0;34m=\u001b[0m\u001b[0mignore_one_row\u001b[0m\u001b[0;34m\u001b[0m\u001b[0;34m\u001b[0m\u001b[0m\n",
      "\u001b[0;31mAssertionError\u001b[0m: "
     ]
    }
   ],
   "source": [
    "df_qc_system = df_qc.query(\n",
    "    'system == @system_label'\n",
    "    '& charge == @charge'\n",
    "    '& lambda_value == @lambda_value'\n",
    ")\n",
    "multiplicity = get_multiplicity(df_qc_system, excitation_level)\n",
    "df_qc_system = df_qc_system.query('multiplicity == @multiplicity')\n",
    "target_n_electrons = df_qc_system.iloc[0]['n_electrons']\n",
    "\n",
    "bond_lengths_qc, energies_qc = get_dimer_curve(\n",
    "    df_qc_system, lambda_value, use_fin_diff=False, apdft_order=None\n",
    ")\n",
    "\n",
    "if use_fin_diff:\n",
    "    df_apdft_system = add_energies_to_df_apdft(\n",
    "        df_qc, df_apdft\n",
    "    )\n",
    "    print(df_apdft_system)\n",
    "    multiplicity = get_multiplicity(df_apdft_system, excitation_level)\n",
    "    df_apdft_system = df_apdft_system.query('multiplicity == @multiplicity')\n",
    "    bond_lengths_fin_diff, energies_fin_diff = get_dimer_curve(\n",
    "        df_apdft_system, lambda_value, use_fin_diff=True, apdft_order=4\n",
    "    )\n",
    "    \n",
    "\n",
    "\n",
    "###   FIGURE   ###\n",
    "fig, ax = plt.subplots(1, 1, tight_layout=True)\n",
    "fig.patch.set_facecolor('white')\n",
    "\n",
    "ax.plot(\n",
    "    bond_lengths_qc, bond_lengths_qc,\n",
    "    marker='0', markersize=5,\n",
    "    linewidth=0, color=qm_color\n",
    ")\n",
    "ax.plot(\n",
    "    bond_lengths_fin_diff, bond_lengths_qc,\n",
    "    marker='', markersize=5,\n",
    "    linewidth=0.2, color=qm_color\n",
    ")\n",
    "\n",
    "ax.set_xlabel('Bond Length ($\\AA$)')\n",
    "\n",
    "ax.set_ylabel('Energy (Ha)')"
   ]
  },
  {
   "cell_type": "markdown",
   "metadata": {},
   "source": [
    "## Polynomial fit to minimum"
   ]
  },
  {
   "cell_type": "code",
   "execution_count": null,
   "metadata": {},
   "outputs": [],
   "source": [
    "remove_outliers = True\n",
    "zscore_cutoff = 3.0\n",
    "\n",
    "poly_bl_buffer = 0.1\n",
    "\n",
    "idx_sort = np.argsort(bond_lengths_qc)\n",
    "bond_lengths_qc = bond_lengths_qc[idx_sort]\n",
    "e_qc = e_qc[idx_sort]\n",
    "\n",
    "if remove_outliers:\n",
    "    bond_lengths_qc, e_qc = _remove_dimer_outliers(\n",
    "        bond_lengths_qc, e_qc\n",
    "    )\n",
    "\n",
    "e_min_idx = np.argmin(e_qc)\n",
    "slice_start = e_min_idx - n_points\n",
    "slice_end = e_min_idx + 1 + n_points\n",
    "bond_lengths_for_fit = bond_lengths_qc[slice_start:slice_end]\n",
    "e_for_fit = e_qc[slice_start:slice_end]\n",
    "\n",
    "poly_coeffs = np.polyfit(bond_lengths_for_fit, e_for_fit, poly_order)\n",
    "poly_bond_lengths = np.linspace(\n",
    "    bond_lengths_for_fit[0]-poly_bl_buffer, bond_lengths_for_fit[-1]+poly_bl_buffer, num=100\n",
    ")\n",
    "\n",
    "poly_predictions = np.zeros(poly_bond_lengths.shape)\n",
    "for i in range(len(poly_predictions)):\n",
    "    poly_predictions[i] = _dimer_poly_pred(poly_bond_lengths[i], poly_coeffs)\n",
    "    \n",
    "bond_length_eq, e_eq = find_poly_min(poly_coeffs)\n",
    "\n",
    "print(f'Equilibrium bond length: {bond_length_eq:.3f} Ang.')\n",
    "\n",
    "###   FIGURE   ###\n",
    "fig, ax = plt.subplots(1, 1, tight_layout=True)\n",
    "fig.patch.set_facecolor('white')\n",
    "\n",
    "ax.plot(\n",
    "    bond_lengths_for_fit, e_for_fit,\n",
    "    marker='o', markersize=5,\n",
    "    linestyle='', color=qm_color\n",
    ")\n",
    "ax.plot(\n",
    "    poly_bond_lengths, poly_predictions,\n",
    "    marker='',\n",
    "    linestyle='--', zorder=0, color='#F94144'\n",
    ")\n",
    "\n",
    "ax.set_xlabel('Bond Length ($\\AA$)')\n",
    "\n",
    "ax.set_ylabel('Energy (Ha)')\n"
   ]
  }
 ],
 "metadata": {
  "interpreter": {
   "hash": "e7370f93d1d0cde622a1f8e1c04877d8463912d04d973331ad4851f04de6915a"
  },
  "kernelspec": {
   "display_name": "Python 3 (ipykernel)",
   "language": "python",
   "name": "python3"
  },
  "language_info": {
   "codemirror_mode": {
    "name": "ipython",
    "version": 3
   },
   "file_extension": ".py",
   "mimetype": "text/x-python",
   "name": "python",
   "nbconvert_exporter": "python",
   "pygments_lexer": "ipython3",
   "version": "3.8.10"
  },
  "metadata": {
   "interpreter": {
    "hash": "1b40a011e729b217253a6703e3a50bab703685f13ebc69dadb4df728bd46068a"
   }
  }
 },
 "nbformat": 4,
 "nbformat_minor": 4
}
